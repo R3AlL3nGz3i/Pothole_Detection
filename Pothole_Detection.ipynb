{
  "cells": [
    {
      "cell_type": "code",
      "execution_count": 1,
      "metadata": {},
      "outputs": [
        {
          "name": "stdout",
          "output_type": "stream",
          "text": [
            "Ultralytics YOLOv8.0.221 🚀 Python-3.10.13 torch-2.1.1+cpu CPU (13th Gen Intel Core(TM) i7-13700F)\n",
            "Setup complete ✅ (24 CPUs, 31.8 GB RAM, 521.9/976.6 GB disk)\n"
          ]
        }
      ],
      "source": [
        "import ultralytics\n",
        "ultralytics.checks()"
      ]
    },
    {
      "cell_type": "code",
      "execution_count": 12,
      "metadata": {
        "id": "ktegpM42AooT"
      },
      "outputs": [
        {
          "data": {
            "text/plain": [
              "Launching TensorBoard..."
            ]
          },
          "metadata": {},
          "output_type": "display_data"
        }
      ],
      "source": [
        "#@title Select YOLOv8 🚀 logger {run: 'auto'}\n",
        "logger = 'TensorBoard' #@param ['Comet', 'TensorBoard']\n",
        "\n",
        "if logger == 'Comet':\n",
        "  %pip install -q comet_ml\n",
        "  import comet_ml; comet_ml.init()\n",
        "elif logger == 'TensorBoard':\n",
        "  %load_ext tensorboard\n",
        "  %tensorboard --logdir ."
      ]
    },
    {
      "cell_type": "markdown",
      "metadata": {
        "id": "nPZZeNrLCQG6"
      },
      "source": [
        "# 4. Export\n",
        "\n",
        "Export a YOLOv8 model to any supported format below with the `format` argument, i.e. `format=onnx`. See [YOLOv8 Export Docs](https://docs.ultralytics.com/modes/export/) for more information.\n",
        "\n",
        "- 💡 ProTip: Export to [ONNX](https://onnx.ai/) or [OpenVINO](https://docs.openvino.ai/latest/index.html) for up to 3x CPU speedup.  \n",
        "- 💡 ProTip: Export to [TensorRT](https://developer.nvidia.com/tensorrt) for up to 5x GPU speedup.\n",
        "\n",
        "\n",
        "| Format                                                             | `format` Argument | Model                     | Metadata | Arguments                                           |\n",
        "|--------------------------------------------------------------------|-------------------|---------------------------|----------|-----------------------------------------------------|\n",
        "| [PyTorch](https://pytorch.org/)                                    | -                 | `yolov8n.pt`              | ✅        | -                                                   |\n",
        "| [TorchScript](https://pytorch.org/docs/stable/jit.html)            | `torchscript`     | `yolov8n.torchscript`     | ✅        | `imgsz`, `optimize`                                 |\n",
        "| [ONNX](https://onnx.ai/)                                           | `onnx`            | `yolov8n.onnx`            | ✅        | `imgsz`, `half`, `dynamic`, `simplify`, `opset`     |\n",
        "| [OpenVINO](https://docs.openvino.ai/latest/index.html)             | `openvino`        | `yolov8n_openvino_model/` | ✅        | `imgsz`, `half`, `int8`                             |\n",
        "| [TensorRT](https://developer.nvidia.com/tensorrt)                  | `engine`          | `yolov8n.engine`          | ✅        | `imgsz`, `half`, `dynamic`, `simplify`, `workspace` |\n",
        "| [CoreML](https://github.com/apple/coremltools)                     | `coreml`          | `yolov8n.mlpackage`       | ✅        | `imgsz`, `half`, `int8`, `nms`                      |\n",
        "| [TF SavedModel](https://www.tensorflow.org/guide/saved_model)      | `saved_model`     | `yolov8n_saved_model/`    | ✅        | `imgsz`, `keras`, `int8`                            |\n",
        "| [TF GraphDef](https://www.tensorflow.org/api_docs/python/tf/Graph) | `pb`              | `yolov8n.pb`              | ❌        | `imgsz`                                             |\n",
        "| [TF Lite](https://www.tensorflow.org/lite)                         | `tflite`          | `yolov8n.tflite`          | ✅        | `imgsz`, `half`, `int8`                             |\n",
        "| [TF Edge TPU](https://coral.ai/docs/edgetpu/models-intro/)         | `edgetpu`         | `yolov8n_edgetpu.tflite`  | ✅        | `imgsz`                                             |\n",
        "| [TF.js](https://www.tensorflow.org/js)                             | `tfjs`            | `yolov8n_web_model/`      | ✅        | `imgsz`                                             |\n",
        "| [PaddlePaddle](https://github.com/PaddlePaddle)                    | `paddle`          | `yolov8n_paddle_model/`   | ✅        | `imgsz`                                             |\n",
        "| [ncnn](https://github.com/Tencent/ncnn)                            | `ncnn`            | `yolov8n_ncnn_model/`     | ✅        | `imgsz`, `half`                                     |\n"
      ]
    },
    {
      "cell_type": "code",
      "execution_count": null,
      "metadata": {
        "colab": {
          "base_uri": "https://localhost:8080/"
        },
        "id": "CYIjW4igCjqD",
        "outputId": "2b65e381-717b-4a6f-d6f5-5254c867f3a4"
      },
      "outputs": [
        {
          "name": "stdout",
          "output_type": "stream",
          "text": [
            "Ultralytics YOLOv8.0.145 🚀 Python-3.10.6 torch-2.0.1+cu118 CPU (Intel Xeon 2.30GHz)\n",
            "YOLOv8n summary (fused): 168 layers, 3151904 parameters, 0 gradients\n",
            "\n",
            "\u001b[34m\u001b[1mPyTorch:\u001b[0m starting from 'yolov8n.pt' with input shape (1, 3, 640, 640) BCHW and output shape(s) (1, 84, 8400) (6.2 MB)\n",
            "\n",
            "\u001b[34m\u001b[1mTorchScript:\u001b[0m starting export with torch 2.0.1+cu118...\n",
            "\u001b[34m\u001b[1mTorchScript:\u001b[0m export success ✅ 2.8s, saved as 'yolov8n.torchscript' (12.4 MB)\n",
            "\n",
            "Export complete (4.6s)\n",
            "Results saved to \u001b[1m/content\u001b[0m\n",
            "Predict:         yolo predict task=detect model=yolov8n.torchscript imgsz=640 \n",
            "Validate:        yolo val task=detect model=yolov8n.torchscript imgsz=640 data=None \n",
            "Visualize:       https://netron.app\n"
          ]
        }
      ],
      "source": [
        "!yolo export model=yolov8n.pt format=torchscript"
      ]
    },
    {
      "cell_type": "markdown",
      "metadata": {
        "id": "kUMOQ0OeDBJG"
      },
      "source": [
        "# 5. Python Usage\n",
        "\n",
        "YOLOv8 was reimagined using Python-first principles for the most seamless Python YOLO experience yet. YOLOv8 models can be loaded from a trained checkpoint or created from scratch. Then methods are used to train, val, predict, and export the model. See detailed Python usage examples in the [YOLOv8 Python Docs](https://docs.ultralytics.com/usage/python/)."
      ]
    },
    {
      "cell_type": "code",
      "execution_count": null,
      "metadata": {
        "id": "bpF9-vS_DAaf"
      },
      "outputs": [],
      "source": [
        "from ultralytics import YOLO\n",
        "\n",
        "# Load a model\n",
        "model = YOLO('yolov8n.yaml')  # build a new model from scratch\n",
        "model = YOLO('yolov8n.pt')  # load a pretrained model (recommended for training)\n",
        "\n",
        "# Use the model\n",
        "results = model.train(data='coco128.yaml', epochs=3)  # train the model\n",
        "results = model.val()  # evaluate model performance on the validation set\n",
        "results = model('https://ultralytics.com/images/bus.jpg')  # predict on an image\n",
        "results = model.export(format='onnx')  # export the model to ONNX format"
      ]
    },
    {
      "cell_type": "markdown",
      "metadata": {
        "id": "Phm9ccmOKye5"
      },
      "source": [
        "# 6. Tasks\n",
        "\n",
        "YOLOv8 can train, val, predict and export models for the most common tasks in vision AI: [Detect](https://docs.ultralytics.com/tasks/detect/), [Segment](https://docs.ultralytics.com/tasks/segment/), [Classify](https://docs.ultralytics.com/tasks/classify/) and [Pose](https://docs.ultralytics.com/tasks/pose/). See [YOLOv8 Tasks Docs](https://docs.ultralytics.com/tasks/) for more information.\n",
        "\n",
        "<br><img width=\"1024\" src=\"https://raw.githubusercontent.com/ultralytics/assets/main/im/banner-tasks.png\">\n"
      ]
    },
    {
      "cell_type": "markdown",
      "metadata": {
        "id": "yq26lwpYK1lq"
      },
      "source": [
        "## 1. Detection\n",
        "\n",
        "YOLOv8 _detection_ models have no suffix and are the default YOLOv8 models, i.e. `yolov8n.pt` and are pretrained on COCO. See [Detection Docs](https://docs.ultralytics.com/tasks/detect/) for full details.\n"
      ]
    },
    {
      "cell_type": "code",
      "execution_count": 2,
      "metadata": {
        "id": "8Go5qqS9LbC5"
      },
      "outputs": [
        {
          "name": "stdout",
          "output_type": "stream",
          "text": [
            "Ultralytics YOLOv8.0.221 🚀 Python-3.10.13 torch-2.1.1+cpu CPU (13th Gen Intel Core(TM) i7-13700F)\n",
            "\u001b[34m\u001b[1mengine\\trainer: \u001b[0mtask=detect, mode=train, model=yolov8n.pt, data=D:\\YOLOv8\\yolov5\\data\\dataset.yaml, epochs=3, patience=50, batch=16, imgsz=640, save=True, save_period=-1, cache=False, device=None, workers=8, project=None, name=train2, exist_ok=False, pretrained=True, optimizer=auto, verbose=True, seed=0, deterministic=True, single_cls=False, rect=False, cos_lr=False, close_mosaic=10, resume=False, amp=True, fraction=1.0, profile=False, freeze=None, overlap_mask=True, mask_ratio=4, dropout=0.0, val=True, split=val, save_json=False, save_hybrid=False, conf=None, iou=0.7, max_det=300, half=False, dnn=False, plots=True, source=None, vid_stride=1, stream_buffer=False, visualize=False, augment=False, agnostic_nms=False, classes=None, retina_masks=False, show=False, save_frames=False, save_txt=False, save_conf=False, save_crop=False, show_labels=True, show_conf=True, show_boxes=True, line_width=None, format=torchscript, keras=False, optimize=False, int8=False, dynamic=False, simplify=False, opset=None, workspace=4, nms=False, lr0=0.01, lrf=0.01, momentum=0.937, weight_decay=0.0005, warmup_epochs=3.0, warmup_momentum=0.8, warmup_bias_lr=0.1, box=7.5, cls=0.5, dfl=1.5, pose=12.0, kobj=1.0, label_smoothing=0.0, nbs=64, hsv_h=0.015, hsv_s=0.7, hsv_v=0.4, degrees=0.0, translate=0.1, scale=0.5, shear=0.0, perspective=0.0, flipud=0.0, fliplr=0.5, mosaic=1.0, mixup=0.0, copy_paste=0.0, cfg=None, tracker=botsort.yaml, save_dir=runs\\detect\\train2\n",
            "Downloading https://ultralytics.com/assets/Arial.ttf to 'C:\\Users\\USER\\AppData\\Roaming\\Ultralytics\\Arial.ttf'...\n"
          ]
        },
        {
          "name": "stderr",
          "output_type": "stream",
          "text": [
            "100%|██████████| 755k/755k [00:00<00:00, 13.3MB/s]"
          ]
        },
        {
          "name": "stdout",
          "output_type": "stream",
          "text": [
            "Overriding model.yaml nc=80 with nc=1\n",
            "\n",
            "                   from  n    params  module                                       arguments                     \n",
            "  0                  -1  1       464  ultralytics.nn.modules.conv.Conv             [3, 16, 3, 2]                 \n",
            "  1                  -1  1      4672  ultralytics.nn.modules.conv.Conv             [16, 32, 3, 2]                \n",
            "  2                  -1  1      7360  ultralytics.nn.modules.block.C2f             [32, 32, 1, True]             \n",
            "  3                  -1  1     18560  ultralytics.nn.modules.conv.Conv             [32, 64, 3, 2]                \n",
            "  4                  -1  2     49664  ultralytics.nn.modules.block.C2f             [64, 64, 2, True]             \n",
            "  5                  -1  1     73984  ultralytics.nn.modules.conv.Conv             [64, 128, 3, 2]               \n",
            "  6                  -1  2    197632  ultralytics.nn.modules.block.C2f             [128, 128, 2, True]           \n",
            "  7                  -1  1    295424  ultralytics.nn.modules.conv.Conv             [128, 256, 3, 2]              \n",
            "  8                  -1  1    460288  ultralytics.nn.modules.block.C2f             [256, 256, 1, True]           \n",
            "  9                  -1  1    164608  ultralytics.nn.modules.block.SPPF            [256, 256, 5]                 \n",
            " 10                  -1  1         0  torch.nn.modules.upsampling.Upsample         [None, 2, 'nearest']          \n",
            " 11             [-1, 6]  1         0  ultralytics.nn.modules.conv.Concat           [1]                           \n",
            " 12                  -1  1    148224  ultralytics.nn.modules.block.C2f             [384, 128, 1]                 \n",
            " 13                  -1  1         0  torch.nn.modules.upsampling.Upsample         [None, 2, 'nearest']          \n",
            " 14             [-1, 4]  1         0  ultralytics.nn.modules.conv.Concat           [1]                           \n",
            " 15                  -1  1     37248  ultralytics.nn.modules.block.C2f             [192, 64, 1]                  \n",
            " 16                  -1  1     36992  ultralytics.nn.modules.conv.Conv             [64, 64, 3, 2]                \n",
            " 17            [-1, 12]  1         0  ultralytics.nn.modules.conv.Concat           [1]                           \n",
            " 18                  -1  1    123648  ultralytics.nn.modules.block.C2f             [192, 128, 1]                 \n",
            " 19                  -1  1    147712  ultralytics.nn.modules.conv.Conv             [128, 128, 3, 2]              \n",
            " 20             [-1, 9]  1         0  ultralytics.nn.modules.conv.Concat           [1]                           \n",
            " 21                  -1  1    493056  ultralytics.nn.modules.block.C2f             [384, 256, 1]                 \n",
            " 22        [15, 18, 21]  1    751507  ultralytics.nn.modules.head.Detect           [1, [64, 128, 256]]           \n",
            "Model summary: 225 layers, 3011043 parameters, 3011027 gradients, 8.2 GFLOPs\n"
          ]
        },
        {
          "name": "stderr",
          "output_type": "stream",
          "text": [
            "\n"
          ]
        },
        {
          "name": "stdout",
          "output_type": "stream",
          "text": [
            "\n",
            "Transferred 319/355 items from pretrained weights\n",
            "Freezing layer 'model.22.dfl.conv.weight'\n"
          ]
        },
        {
          "name": "stderr",
          "output_type": "stream",
          "text": [
            "\u001b[34m\u001b[1mtrain: \u001b[0mScanning D:\\ITX_Screening_Test-master\\SortDataset\\labels\\train... 1094 images, 0 backgrounds, 0 corrupt: 100%|██████████| 1094/1094 [00:00<00:00, 1808.33it/s]"
          ]
        },
        {
          "name": "stdout",
          "output_type": "stream",
          "text": [
            "\u001b[34m\u001b[1mtrain: \u001b[0mNew cache created: D:\\ITX_Screening_Test-master\\SortDataset\\labels\\train.cache\n"
          ]
        },
        {
          "name": "stderr",
          "output_type": "stream",
          "text": [
            "\n",
            "\u001b[34m\u001b[1mval: \u001b[0mScanning D:\\ITX_Screening_Test-master\\SortDataset\\labels\\val... 234 images, 0 backgrounds, 0 corrupt: 100%|██████████| 234/234 [00:00<00:00, 1784.04it/s]"
          ]
        },
        {
          "name": "stdout",
          "output_type": "stream",
          "text": [
            "\u001b[34m\u001b[1mval: \u001b[0mNew cache created: D:\\ITX_Screening_Test-master\\SortDataset\\labels\\val.cache\n"
          ]
        },
        {
          "name": "stderr",
          "output_type": "stream",
          "text": [
            "\n"
          ]
        },
        {
          "name": "stdout",
          "output_type": "stream",
          "text": [
            "Plotting labels to runs\\detect\\train2\\labels.jpg... \n",
            "\u001b[34m\u001b[1moptimizer:\u001b[0m 'optimizer=auto' found, ignoring 'lr0=0.01' and 'momentum=0.937' and determining best 'optimizer', 'lr0' and 'momentum' automatically... \n",
            "\u001b[34m\u001b[1moptimizer:\u001b[0m AdamW(lr=0.002, momentum=0.9) with parameter groups 57 weight(decay=0.0), 64 weight(decay=0.0005), 63 bias(decay=0.0)\n",
            "Image sizes 640 train, 640 val\n",
            "Using 0 dataloader workers\n",
            "Logging results to \u001b[1mruns\\detect\\train2\u001b[0m\n",
            "Starting training for 3 epochs...\n",
            "\n",
            "      Epoch    GPU_mem   box_loss   cls_loss   dfl_loss  Instances       Size\n"
          ]
        },
        {
          "name": "stderr",
          "output_type": "stream",
          "text": [
            "        1/3         0G      2.677      5.858      1.122         26        640: 100%|██████████| 69/69 [01:44<00:00,  1.52s/it]\n",
            "                 Class     Images  Instances      Box(P          R      mAP50  mAP50-95): 100%|██████████| 8/8 [00:06<00:00,  1.25it/s]"
          ]
        },
        {
          "name": "stdout",
          "output_type": "stream",
          "text": [
            "                   all        234        505     0.0991      0.156     0.0498     0.0144\n",
            "\n",
            "      Epoch    GPU_mem   box_loss   cls_loss   dfl_loss  Instances       Size\n"
          ]
        },
        {
          "name": "stderr",
          "output_type": "stream",
          "text": [
            "\n",
            "        2/3         0G      2.288      3.319      1.018          9        640: 100%|██████████| 69/69 [01:41<00:00,  1.47s/it]\n",
            "                 Class     Images  Instances      Box(P          R      mAP50  mAP50-95): 100%|██████████| 8/8 [00:06<00:00,  1.27it/s]"
          ]
        },
        {
          "name": "stdout",
          "output_type": "stream",
          "text": [
            "                   all        234        505      0.384      0.222       0.19     0.0669\n",
            "\n",
            "      Epoch    GPU_mem   box_loss   cls_loss   dfl_loss  Instances       Size\n"
          ]
        },
        {
          "name": "stderr",
          "output_type": "stream",
          "text": [
            "\n",
            "        3/3         0G      2.217      2.858     0.9985         28        640: 100%|██████████| 69/69 [01:57<00:00,  1.71s/it]\n",
            "                 Class     Images  Instances      Box(P          R      mAP50  mAP50-95): 100%|██████████| 8/8 [00:06<00:00,  1.26it/s]"
          ]
        },
        {
          "name": "stdout",
          "output_type": "stream",
          "text": [
            "                   all        234        505       0.54      0.411      0.376      0.146\n",
            "\n",
            "3 epochs completed in 0.096 hours.\n"
          ]
        },
        {
          "name": "stderr",
          "output_type": "stream",
          "text": [
            "\n"
          ]
        },
        {
          "name": "stdout",
          "output_type": "stream",
          "text": [
            "Optimizer stripped from runs\\detect\\train2\\weights\\last.pt, 6.2MB\n",
            "Optimizer stripped from runs\\detect\\train2\\weights\\best.pt, 6.2MB\n",
            "\n",
            "Validating runs\\detect\\train2\\weights\\best.pt...\n",
            "Ultralytics YOLOv8.0.221 🚀 Python-3.10.13 torch-2.1.1+cpu CPU (13th Gen Intel Core(TM) i7-13700F)\n",
            "Model summary (fused): 168 layers, 3005843 parameters, 0 gradients, 8.1 GFLOPs\n"
          ]
        },
        {
          "name": "stderr",
          "output_type": "stream",
          "text": [
            "                 Class     Images  Instances      Box(P          R      mAP50  mAP50-95): 100%|██████████| 8/8 [00:05<00:00,  1.50it/s]\n"
          ]
        },
        {
          "name": "stdout",
          "output_type": "stream",
          "text": [
            "                   all        234        505      0.538      0.411      0.376      0.146\n",
            "Speed: 0.4ms preprocess, 17.3ms inference, 0.0ms loss, 1.1ms postprocess per image\n",
            "Results saved to \u001b[1mruns\\detect\\train2\u001b[0m\n",
            "\n",
            "Downloading https://ultralytics.com/images/bus.jpg to 'bus.jpg'...\n"
          ]
        },
        {
          "name": "stderr",
          "output_type": "stream",
          "text": [
            "100%|██████████| 476k/476k [00:00<00:00, 8.15MB/s]"
          ]
        },
        {
          "name": "stdout",
          "output_type": "stream",
          "text": [
            "image 1/1 d:\\YOLOv8\\bus.jpg: 640x480 (no detections), 47.2ms\n",
            "Speed: 2.5ms preprocess, 47.2ms inference, 0.0ms postprocess per image at shape (1, 3, 640, 480)\n"
          ]
        },
        {
          "name": "stderr",
          "output_type": "stream",
          "text": [
            "\n"
          ]
        },
        {
          "data": {
            "text/plain": [
              "[ultralytics.engine.results.Results object with attributes:\n",
              " \n",
              " boxes: ultralytics.engine.results.Boxes object\n",
              " keypoints: None\n",
              " masks: None\n",
              " names: {0: 'pothole'}\n",
              " orig_img: array([[[122, 148, 172],\n",
              "         [120, 146, 170],\n",
              "         [125, 153, 177],\n",
              "         ...,\n",
              "         [157, 170, 184],\n",
              "         [158, 171, 185],\n",
              "         [158, 171, 185]],\n",
              " \n",
              "        [[127, 153, 177],\n",
              "         [124, 150, 174],\n",
              "         [127, 155, 179],\n",
              "         ...,\n",
              "         [158, 171, 185],\n",
              "         [159, 172, 186],\n",
              "         [159, 172, 186]],\n",
              " \n",
              "        [[128, 154, 178],\n",
              "         [126, 152, 176],\n",
              "         [126, 154, 178],\n",
              "         ...,\n",
              "         [158, 171, 185],\n",
              "         [158, 171, 185],\n",
              "         [158, 171, 185]],\n",
              " \n",
              "        ...,\n",
              " \n",
              "        [[185, 185, 191],\n",
              "         [182, 182, 188],\n",
              "         [179, 179, 185],\n",
              "         ...,\n",
              "         [114, 107, 112],\n",
              "         [115, 105, 111],\n",
              "         [116, 106, 112]],\n",
              " \n",
              "        [[157, 157, 163],\n",
              "         [180, 180, 186],\n",
              "         [185, 186, 190],\n",
              "         ...,\n",
              "         [107,  97, 103],\n",
              "         [102,  92,  98],\n",
              "         [108,  98, 104]],\n",
              " \n",
              "        [[112, 112, 118],\n",
              "         [160, 160, 166],\n",
              "         [169, 170, 174],\n",
              "         ...,\n",
              "         [ 99,  89,  95],\n",
              "         [ 96,  86,  92],\n",
              "         [102,  92,  98]]], dtype=uint8)\n",
              " orig_shape: (1080, 810)\n",
              " path: 'd:\\\\YOLOv8\\\\bus.jpg'\n",
              " probs: None\n",
              " save_dir: None\n",
              " speed: {'preprocess': 2.5064945220947266, 'inference': 47.178030014038086, 'postprocess': 0.0}]"
            ]
          },
          "execution_count": 2,
          "metadata": {},
          "output_type": "execute_result"
        }
      ],
      "source": [
        "# Load YOLOv8n, train it on COCO128 for 3 epochs and predict an image with it\n",
        "from ultralytics import YOLO\n",
        "\n",
        "model = YOLO('yolov8n.pt')  # load a pretrained YOLOv8n detection model\n",
        "model.train(data='D:\\YOLOv8\\yolov5\\data\\dataset.yaml', epochs=3)  # train the model\n"
      ]
    },
    {
      "cell_type": "code",
      "execution_count": 4,
      "metadata": {},
      "outputs": [],
      "source": [
        "import torch"
      ]
    },
    {
      "cell_type": "code",
      "execution_count": 5,
      "metadata": {},
      "outputs": [
        {
          "name": "stdout",
          "output_type": "stream",
          "text": [
            "New https://pypi.org/project/ultralytics/8.0.227 available 😃 Update with 'pip install -U ultralytics'\n",
            "Ultralytics YOLOv8.0.221 🚀 Python-3.10.13 torch-2.1.1+cpu CPU (13th Gen Intel Core(TM) i7-13700F)\n",
            "\u001b[34m\u001b[1mengine\\trainer: \u001b[0mtask=detect, mode=train, model=yolov8n.pt, data=D:\\YOLOv8\\yolov5\\data\\dataset.yaml, epochs=100, patience=50, batch=16, imgsz=640, save=True, save_period=-1, cache=False, device=None, workers=8, project=None, name=train7, exist_ok=False, pretrained=True, optimizer=auto, verbose=True, seed=0, deterministic=True, single_cls=False, rect=False, cos_lr=False, close_mosaic=10, resume=False, amp=True, fraction=1.0, profile=False, freeze=None, overlap_mask=True, mask_ratio=4, dropout=0.0, val=True, split=val, save_json=False, save_hybrid=False, conf=None, iou=0.7, max_det=300, half=False, dnn=False, plots=True, source=None, vid_stride=1, stream_buffer=False, visualize=False, augment=False, agnostic_nms=False, classes=None, retina_masks=False, show=False, save_frames=False, save_txt=False, save_conf=False, save_crop=False, show_labels=True, show_conf=True, show_boxes=True, line_width=None, format=torchscript, keras=False, optimize=False, int8=False, dynamic=False, simplify=False, opset=None, workspace=4, nms=False, lr0=0.01, lrf=0.01, momentum=0.937, weight_decay=0.0005, warmup_epochs=3.0, warmup_momentum=0.8, warmup_bias_lr=0.1, box=7.5, cls=0.5, dfl=1.5, pose=12.0, kobj=1.0, label_smoothing=0.0, nbs=64, hsv_h=0.015, hsv_s=0.7, hsv_v=0.4, degrees=0.0, translate=0.1, scale=0.5, shear=0.0, perspective=0.0, flipud=0.0, fliplr=0.5, mosaic=1.0, mixup=0.0, copy_paste=0.0, cfg=None, tracker=botsort.yaml, save_dir=runs\\detect\\train7\n"
          ]
        },
        {
          "name": "stderr",
          "output_type": "stream",
          "text": [
            "Traceback (most recent call last):\n",
            "  File \"D:\\Anaconda\\envs\\YOLOv8\\lib\\site-packages\\ultralytics\\engine\\trainer.py\", line 116, in __init__\n",
            "    self.data = check_det_dataset(self.args.data)\n",
            "  File \"D:\\Anaconda\\envs\\YOLOv8\\lib\\site-packages\\ultralytics\\data\\utils.py\", line 253, in check_det_dataset\n",
            "    file = check_file(dataset)\n",
            "  File \"D:\\Anaconda\\envs\\YOLOv8\\lib\\site-packages\\ultralytics\\utils\\checks.py\", line 460, in check_file\n",
            "    raise FileNotFoundError(f\"'{file}' does not exist\")\n",
            "FileNotFoundError: 'D:\\YOLOv8\\yolov5\\data\\dataset.yaml' does not exist\n",
            "\n",
            "The above exception was the direct cause of the following exception:\n",
            "\n",
            "Traceback (most recent call last):\n",
            "  File \"D:\\Anaconda\\envs\\YOLOv8\\lib\\runpy.py\", line 196, in _run_module_as_main\n",
            "    return _run_code(code, main_globals, None,\n",
            "  File \"D:\\Anaconda\\envs\\YOLOv8\\lib\\runpy.py\", line 86, in _run_code\n",
            "    exec(code, run_globals)\n",
            "  File \"D:\\Anaconda\\envs\\YOLOv8\\Scripts\\yolo.exe\\__main__.py\", line 7, in <module>\n",
            "    sys.exit(entrypoint())\n",
            "  File \"D:\\Anaconda\\envs\\YOLOv8\\lib\\site-packages\\ultralytics\\cfg\\__init__.py\", line 448, in entrypoint\n",
            "    getattr(model, mode)(**overrides)  # default args from model\n",
            "  File \"D:\\Anaconda\\envs\\YOLOv8\\lib\\site-packages\\ultralytics\\engine\\model.py\", line 333, in train\n",
            "    self.trainer = (trainer or self._smart_load('trainer'))(overrides=args, _callbacks=self.callbacks)\n",
            "  File \"D:\\Anaconda\\envs\\YOLOv8\\lib\\site-packages\\ultralytics\\engine\\trainer.py\", line 120, in __init__\n",
            "    raise RuntimeError(emojis(f\"Dataset '{clean_url(self.args.data)}' error ❌ {e}\")) from e\n",
            "RuntimeError: Dataset 'D://YOLOv8/yolov5/data/dataset.yaml' error  'D:\\YOLOv8\\yolov5\\data\\dataset.yaml' does not exist\n"
          ]
        }
      ],
      "source": [
        "!yolo task=detect mode=train model=yolov8n.pt data='D:\\YOLOv8\\yolov5\\data\\dataset.yaml' epochs=100 imgsz=640 "
      ]
    },
    {
      "cell_type": "markdown",
      "metadata": {},
      "source": [
        "# Resume training "
      ]
    },
    {
      "cell_type": "code",
      "execution_count": 13,
      "metadata": {},
      "outputs": [],
      "source": [
        "!yolo task=detect mode=train resume model='runs/detect/train6/weights/last.pt' data='D:\\PotholeDetection\\yolov5\\data\\dataset.yaml' epochs=100 imgsz=640 "
      ]
    },
    {
      "cell_type": "markdown",
      "metadata": {},
      "source": [
        "# Validation"
      ]
    },
    {
      "cell_type": "code",
      "execution_count": null,
      "metadata": {},
      "outputs": [],
      "source": [
        "!yolo task=detect mode=val model=\"'runs/detect/train6/weights/last.pt\" data=\"D:\\PotholeDetection\\yolov5\\data\\dataset.yaml\" device=0\n"
      ]
    },
    {
      "cell_type": "code",
      "execution_count": 25,
      "metadata": {},
      "outputs": [
        {
          "name": "stdout",
          "output_type": "stream",
          "text": [
            "Ultralytics YOLOv8.0.221 🚀 Python-3.10.13 torch-2.1.1+cpu CPU (13th Gen Intel Core(TM) i7-13700F)\n",
            "Model summary (fused): 168 layers, 3005843 parameters, 0 gradients, 8.1 GFLOPs\n",
            "\n",
            "image 1/236 D:\\ITX_Screening_Test-master\\SortDataset\\images\\test\\G0010119.jpg: 448x640 3 potholes, 55.5ms\n",
            "image 2/236 D:\\ITX_Screening_Test-master\\SortDataset\\images\\test\\G0011504.JPG: 448x640 1 pothole, 42.1ms\n",
            "image 3/236 D:\\ITX_Screening_Test-master\\SortDataset\\images\\test\\G0011523.JPG: 448x640 (no detections), 44.0ms\n",
            "image 4/236 D:\\ITX_Screening_Test-master\\SortDataset\\images\\test\\G0011573.JPG: 448x640 3 potholes, 41.0ms\n",
            "image 5/236 D:\\ITX_Screening_Test-master\\SortDataset\\images\\test\\G0011678.JPG: 448x640 1 pothole, 39.0ms\n",
            "image 6/236 D:\\ITX_Screening_Test-master\\SortDataset\\images\\test\\G0011769.JPG: 448x640 1 pothole, 38.1ms\n",
            "image 7/236 D:\\ITX_Screening_Test-master\\SortDataset\\images\\test\\G0011978.JPG: 448x640 2 potholes, 38.0ms\n",
            "image 8/236 D:\\ITX_Screening_Test-master\\SortDataset\\images\\test\\G0011982.JPG: 448x640 1 pothole, 39.1ms\n",
            "image 9/236 D:\\ITX_Screening_Test-master\\SortDataset\\images\\test\\G0011988.JPG: 448x640 1 pothole, 39.0ms\n",
            "image 10/236 D:\\ITX_Screening_Test-master\\SortDataset\\images\\test\\G0012012.JPG: 448x640 1 pothole, 37.0ms\n",
            "image 11/236 D:\\ITX_Screening_Test-master\\SortDataset\\images\\test\\G0012022.JPG: 448x640 1 pothole, 38.0ms\n",
            "image 12/236 D:\\ITX_Screening_Test-master\\SortDataset\\images\\test\\G0016157.JPG: 448x640 1 pothole, 40.0ms\n",
            "image 13/236 D:\\ITX_Screening_Test-master\\SortDataset\\images\\test\\G0016245.JPG: 448x640 1 pothole, 41.0ms\n",
            "image 14/236 D:\\ITX_Screening_Test-master\\SortDataset\\images\\test\\G0016517.JPG: 448x640 1 pothole, 39.0ms\n",
            "image 15/236 D:\\ITX_Screening_Test-master\\SortDataset\\images\\test\\G0022107.JPG: 448x640 1 pothole, 40.1ms\n",
            "image 16/236 D:\\ITX_Screening_Test-master\\SortDataset\\images\\test\\G0024589.JPG: 448x640 4 potholes, 41.0ms\n",
            "image 17/236 D:\\ITX_Screening_Test-master\\SortDataset\\images\\test\\G0024751.JPG: 448x640 4 potholes, 41.1ms\n",
            "image 18/236 D:\\ITX_Screening_Test-master\\SortDataset\\images\\test\\G0024754.JPG: 448x640 1 pothole, 42.0ms\n",
            "image 19/236 D:\\ITX_Screening_Test-master\\SortDataset\\images\\test\\G0025080.JPG: 448x640 2 potholes, 42.1ms\n",
            "image 20/236 D:\\ITX_Screening_Test-master\\SortDataset\\images\\test\\G0025405.JPG: 448x640 (no detections), 43.0ms\n",
            "image 21/236 D:\\ITX_Screening_Test-master\\SortDataset\\images\\test\\G0026516.JPG: 448x640 (no detections), 44.0ms\n",
            "image 22/236 D:\\ITX_Screening_Test-master\\SortDataset\\images\\test\\G0026521.JPG: 448x640 1 pothole, 41.0ms\n",
            "image 23/236 D:\\ITX_Screening_Test-master\\SortDataset\\images\\test\\G0026801.JPG: 448x640 2 potholes, 40.0ms\n",
            "image 24/236 D:\\ITX_Screening_Test-master\\SortDataset\\images\\test\\G0026955.JPG: 448x640 1 pothole, 39.0ms\n",
            "image 25/236 D:\\ITX_Screening_Test-master\\SortDataset\\images\\test\\G0027527.JPG: 448x640 1 pothole, 38.7ms\n",
            "image 26/236 D:\\ITX_Screening_Test-master\\SortDataset\\images\\test\\G0027591.JPG: 448x640 1 pothole, 41.0ms\n",
            "image 27/236 D:\\ITX_Screening_Test-master\\SortDataset\\images\\test\\G0027798.JPG: 448x640 2 potholes, 37.5ms\n",
            "image 28/236 D:\\ITX_Screening_Test-master\\SortDataset\\images\\test\\G0027850.JPG: 448x640 (no detections), 40.0ms\n",
            "image 29/236 D:\\ITX_Screening_Test-master\\SortDataset\\images\\test\\G0027852.JPG: 448x640 1 pothole, 41.0ms\n",
            "image 30/236 D:\\ITX_Screening_Test-master\\SortDataset\\images\\test\\G0027854.JPG: 448x640 3 potholes, 38.0ms\n",
            "image 31/236 D:\\ITX_Screening_Test-master\\SortDataset\\images\\test\\G0027860.JPG: 448x640 1 pothole, 39.1ms\n",
            "image 32/236 D:\\ITX_Screening_Test-master\\SortDataset\\images\\test\\G0027889.JPG: 448x640 (no detections), 40.0ms\n",
            "image 33/236 D:\\ITX_Screening_Test-master\\SortDataset\\images\\test\\G0027894.JPG: 448x640 2 potholes, 40.0ms\n",
            "image 34/236 D:\\ITX_Screening_Test-master\\SortDataset\\images\\test\\G0027991.JPG: 448x640 1 pothole, 45.0ms\n",
            "image 35/236 D:\\ITX_Screening_Test-master\\SortDataset\\images\\test\\G0028195.JPG: 448x640 (no detections), 39.1ms\n",
            "image 36/236 D:\\ITX_Screening_Test-master\\SortDataset\\images\\test\\G0028199.JPG: 448x640 1 pothole, 39.0ms\n",
            "image 37/236 D:\\ITX_Screening_Test-master\\SortDataset\\images\\test\\G0028268.JPG: 448x640 1 pothole, 38.1ms\n",
            "image 38/236 D:\\ITX_Screening_Test-master\\SortDataset\\images\\test\\G0028276.JPG: 448x640 1 pothole, 37.0ms\n",
            "image 39/236 D:\\ITX_Screening_Test-master\\SortDataset\\images\\test\\G0028284.JPG: 448x640 1 pothole, 39.0ms\n",
            "image 40/236 D:\\ITX_Screening_Test-master\\SortDataset\\images\\test\\G0028288.JPG: 448x640 1 pothole, 40.0ms\n",
            "image 41/236 D:\\ITX_Screening_Test-master\\SortDataset\\images\\test\\G0028289.JPG: 448x640 (no detections), 37.1ms\n",
            "image 42/236 D:\\ITX_Screening_Test-master\\SortDataset\\images\\test\\G0028300.JPG: 448x640 3 potholes, 38.0ms\n",
            "image 43/236 D:\\ITX_Screening_Test-master\\SortDataset\\images\\test\\G0028304.JPG: 448x640 1 pothole, 39.0ms\n",
            "image 44/236 D:\\ITX_Screening_Test-master\\SortDataset\\images\\test\\G0028338.JPG: 448x640 3 potholes, 40.0ms\n",
            "image 45/236 D:\\ITX_Screening_Test-master\\SortDataset\\images\\test\\G0028394.JPG: 448x640 2 potholes, 38.0ms\n",
            "image 46/236 D:\\ITX_Screening_Test-master\\SortDataset\\images\\test\\G0028398.JPG: 448x640 3 potholes, 39.0ms\n",
            "image 47/236 D:\\ITX_Screening_Test-master\\SortDataset\\images\\test\\G0028490.JPG: 448x640 2 potholes, 39.0ms\n",
            "image 48/236 D:\\ITX_Screening_Test-master\\SortDataset\\images\\test\\G0028492.JPG: 448x640 2 potholes, 38.2ms\n",
            "image 49/236 D:\\ITX_Screening_Test-master\\SortDataset\\images\\test\\G0028503.JPG: 448x640 1 pothole, 39.4ms\n",
            "image 50/236 D:\\ITX_Screening_Test-master\\SortDataset\\images\\test\\G0028514.JPG: 448x640 1 pothole, 38.5ms\n",
            "image 51/236 D:\\ITX_Screening_Test-master\\SortDataset\\images\\test\\G0028545.JPG: 448x640 2 potholes, 40.0ms\n",
            "image 52/236 D:\\ITX_Screening_Test-master\\SortDataset\\images\\test\\G0028818.JPG: 448x640 2 potholes, 42.0ms\n",
            "image 53/236 D:\\ITX_Screening_Test-master\\SortDataset\\images\\test\\G0028959.JPG: 448x640 1 pothole, 38.0ms\n",
            "image 54/236 D:\\ITX_Screening_Test-master\\SortDataset\\images\\test\\G0028976.JPG: 448x640 2 potholes, 38.1ms\n",
            "image 55/236 D:\\ITX_Screening_Test-master\\SortDataset\\images\\test\\G0029019.JPG: 448x640 3 potholes, 39.0ms\n",
            "image 56/236 D:\\ITX_Screening_Test-master\\SortDataset\\images\\test\\G0029088.JPG: 448x640 1 pothole, 39.1ms\n",
            "image 57/236 D:\\ITX_Screening_Test-master\\SortDataset\\images\\test\\G0029261.JPG: 448x640 1 pothole, 38.0ms\n",
            "image 58/236 D:\\ITX_Screening_Test-master\\SortDataset\\images\\test\\G0029312.JPG: 448x640 (no detections), 38.0ms\n",
            "image 59/236 D:\\ITX_Screening_Test-master\\SortDataset\\images\\test\\G0029320.JPG: 448x640 1 pothole, 40.0ms\n",
            "image 60/236 D:\\ITX_Screening_Test-master\\SortDataset\\images\\test\\G0029358.JPG: 448x640 1 pothole, 40.0ms\n",
            "image 61/236 D:\\ITX_Screening_Test-master\\SortDataset\\images\\test\\G0029452.JPG: 448x640 1 pothole, 41.0ms\n",
            "image 62/236 D:\\ITX_Screening_Test-master\\SortDataset\\images\\test\\G0029455.JPG: 448x640 1 pothole, 39.1ms\n",
            "image 63/236 D:\\ITX_Screening_Test-master\\SortDataset\\images\\test\\G0029603.JPG: 448x640 1 pothole, 39.0ms\n",
            "image 64/236 D:\\ITX_Screening_Test-master\\SortDataset\\images\\test\\G0029867.JPG: 448x640 1 pothole, 41.1ms\n",
            "image 65/236 D:\\ITX_Screening_Test-master\\SortDataset\\images\\test\\G0029879.JPG: 448x640 1 pothole, 38.0ms\n",
            "image 66/236 D:\\ITX_Screening_Test-master\\SortDataset\\images\\test\\G0029948.JPG: 448x640 2 potholes, 40.2ms\n",
            "image 67/236 D:\\ITX_Screening_Test-master\\SortDataset\\images\\test\\G0030003.JPG: 448x640 3 potholes, 40.0ms\n",
            "image 68/236 D:\\ITX_Screening_Test-master\\SortDataset\\images\\test\\G0030004.JPG: 448x640 2 potholes, 38.0ms\n",
            "image 69/236 D:\\ITX_Screening_Test-master\\SortDataset\\images\\test\\G0030138.JPG: 448x640 (no detections), 39.0ms\n",
            "image 70/236 D:\\ITX_Screening_Test-master\\SortDataset\\images\\test\\G0030286.JPG: 448x640 3 potholes, 38.0ms\n",
            "image 71/236 D:\\ITX_Screening_Test-master\\SortDataset\\images\\test\\G0030660.JPG: 448x640 1 pothole, 38.0ms\n",
            "image 72/236 D:\\ITX_Screening_Test-master\\SortDataset\\images\\test\\G0030661.JPG: 448x640 1 pothole, 40.0ms\n",
            "image 73/236 D:\\ITX_Screening_Test-master\\SortDataset\\images\\test\\G0030971.JPG: 448x640 1 pothole, 41.7ms\n",
            "image 74/236 D:\\ITX_Screening_Test-master\\SortDataset\\images\\test\\G0031212.JPG: 448x640 (no detections), 42.0ms\n",
            "image 75/236 D:\\ITX_Screening_Test-master\\SortDataset\\images\\test\\G0031370.JPG: 448x640 7 potholes, 39.1ms\n",
            "image 76/236 D:\\ITX_Screening_Test-master\\SortDataset\\images\\test\\G0031372.JPG: 448x640 2 potholes, 37.0ms\n",
            "image 77/236 D:\\ITX_Screening_Test-master\\SortDataset\\images\\test\\G0031378.JPG: 448x640 3 potholes, 38.0ms\n",
            "image 78/236 D:\\ITX_Screening_Test-master\\SortDataset\\images\\test\\G0031379.JPG: 448x640 3 potholes, 38.0ms\n",
            "image 79/236 D:\\ITX_Screening_Test-master\\SortDataset\\images\\test\\G0031530.JPG: 448x640 1 pothole, 41.0ms\n",
            "image 80/236 D:\\ITX_Screening_Test-master\\SortDataset\\images\\test\\G0031736.JPG: 448x640 3 potholes, 38.0ms\n",
            "image 81/236 D:\\ITX_Screening_Test-master\\SortDataset\\images\\test\\G0032035.JPG: 448x640 3 potholes, 37.1ms\n",
            "image 82/236 D:\\ITX_Screening_Test-master\\SortDataset\\images\\test\\G0032335.JPG: 448x640 3 potholes, 39.0ms\n",
            "image 83/236 D:\\ITX_Screening_Test-master\\SortDataset\\images\\test\\G0032336.JPG: 448x640 1 pothole, 37.1ms\n",
            "image 84/236 D:\\ITX_Screening_Test-master\\SortDataset\\images\\test\\G0040508.JPG: 448x640 1 pothole, 41.0ms\n",
            "image 85/236 D:\\ITX_Screening_Test-master\\SortDataset\\images\\test\\G0040544.JPG: 448x640 1 pothole, 39.1ms\n",
            "image 86/236 D:\\ITX_Screening_Test-master\\SortDataset\\images\\test\\G0040661.JPG: 448x640 (no detections), 37.0ms\n",
            "image 87/236 D:\\ITX_Screening_Test-master\\SortDataset\\images\\test\\G0041017.JPG: 448x640 1 pothole, 39.0ms\n",
            "image 88/236 D:\\ITX_Screening_Test-master\\SortDataset\\images\\test\\G0041018.JPG: 448x640 3 potholes, 37.6ms\n",
            "image 89/236 D:\\ITX_Screening_Test-master\\SortDataset\\images\\test\\G0041149.JPG: 448x640 1 pothole, 39.0ms\n",
            "image 90/236 D:\\ITX_Screening_Test-master\\SortDataset\\images\\test\\G0041189.JPG: 448x640 4 potholes, 43.0ms\n",
            "image 91/236 D:\\ITX_Screening_Test-master\\SortDataset\\images\\test\\G0041236.JPG: 448x640 1 pothole, 40.0ms\n",
            "image 92/236 D:\\ITX_Screening_Test-master\\SortDataset\\images\\test\\G0041437.JPG: 448x640 1 pothole, 39.0ms\n",
            "image 93/236 D:\\ITX_Screening_Test-master\\SortDataset\\images\\test\\G0041509.JPG: 448x640 3 potholes, 37.0ms\n",
            "image 94/236 D:\\ITX_Screening_Test-master\\SortDataset\\images\\test\\G0041794.JPG: 448x640 (no detections), 38.5ms\n",
            "image 95/236 D:\\ITX_Screening_Test-master\\SortDataset\\images\\test\\G0041939.JPG: 448x640 1 pothole, 39.0ms\n",
            "image 96/236 D:\\ITX_Screening_Test-master\\SortDataset\\images\\test\\G0041941.JPG: 448x640 1 pothole, 38.0ms\n",
            "image 97/236 D:\\ITX_Screening_Test-master\\SortDataset\\images\\test\\G0043321.JPG: 448x640 3 potholes, 37.0ms\n",
            "image 98/236 D:\\ITX_Screening_Test-master\\SortDataset\\images\\test\\G0051938.JPG: 448x640 (no detections), 36.0ms\n",
            "image 99/236 D:\\ITX_Screening_Test-master\\SortDataset\\images\\test\\G0051942.JPG: 448x640 (no detections), 39.0ms\n",
            "image 100/236 D:\\ITX_Screening_Test-master\\SortDataset\\images\\test\\G0051944.JPG: 448x640 1 pothole, 39.2ms\n",
            "image 101/236 D:\\ITX_Screening_Test-master\\SortDataset\\images\\test\\G0052005.JPG: 448x640 (no detections), 37.0ms\n",
            "image 102/236 D:\\ITX_Screening_Test-master\\SortDataset\\images\\test\\G0052122.JPG: 448x640 1 pothole, 38.0ms\n",
            "image 103/236 D:\\ITX_Screening_Test-master\\SortDataset\\images\\test\\G0052192.JPG: 448x640 1 pothole, 38.0ms\n",
            "image 104/236 D:\\ITX_Screening_Test-master\\SortDataset\\images\\test\\G0052398.JPG: 448x640 (no detections), 41.1ms\n",
            "image 105/236 D:\\ITX_Screening_Test-master\\SortDataset\\images\\test\\G0052405.JPG: 448x640 1 pothole, 39.0ms\n",
            "image 106/236 D:\\ITX_Screening_Test-master\\SortDataset\\images\\test\\G0052425.JPG: 448x640 1 pothole, 39.5ms\n",
            "image 107/236 D:\\ITX_Screening_Test-master\\SortDataset\\images\\test\\G0052686.JPG: 448x640 1 pothole, 41.0ms\n",
            "image 108/236 D:\\ITX_Screening_Test-master\\SortDataset\\images\\test\\G0052692.JPG: 448x640 (no detections), 39.0ms\n",
            "image 109/236 D:\\ITX_Screening_Test-master\\SortDataset\\images\\test\\G0052784.JPG: 448x640 3 potholes, 41.0ms\n",
            "image 110/236 D:\\ITX_Screening_Test-master\\SortDataset\\images\\test\\G0052787.JPG: 448x640 1 pothole, 39.0ms\n",
            "image 111/236 D:\\ITX_Screening_Test-master\\SortDataset\\images\\test\\G0053103.JPG: 448x640 1 pothole, 41.0ms\n",
            "image 112/236 D:\\ITX_Screening_Test-master\\SortDataset\\images\\test\\G0063500.JPG: 448x640 1 pothole, 43.0ms\n",
            "image 113/236 D:\\ITX_Screening_Test-master\\SortDataset\\images\\test\\G0063924.JPG: 448x640 4 potholes, 39.0ms\n",
            "image 114/236 D:\\ITX_Screening_Test-master\\SortDataset\\images\\test\\G0064185.JPG: 448x640 1 pothole, 37.0ms\n",
            "image 115/236 D:\\ITX_Screening_Test-master\\SortDataset\\images\\test\\G0064408.JPG: 448x640 2 potholes, 38.0ms\n",
            "image 116/236 D:\\ITX_Screening_Test-master\\SortDataset\\images\\test\\G0064410.JPG: 448x640 2 potholes, 37.0ms\n",
            "image 117/236 D:\\ITX_Screening_Test-master\\SortDataset\\images\\test\\G0064412.JPG: 448x640 1 pothole, 38.0ms\n",
            "image 118/236 D:\\ITX_Screening_Test-master\\SortDataset\\images\\test\\G0064415.JPG: 448x640 1 pothole, 40.0ms\n",
            "image 119/236 D:\\ITX_Screening_Test-master\\SortDataset\\images\\test\\G0064444.JPG: 448x640 3 potholes, 41.1ms\n",
            "image 120/236 D:\\ITX_Screening_Test-master\\SortDataset\\images\\test\\G0064452.JPG: 448x640 (no detections), 40.0ms\n",
            "image 121/236 D:\\ITX_Screening_Test-master\\SortDataset\\images\\test\\G0064516.JPG: 448x640 1 pothole, 41.3ms\n",
            "image 122/236 D:\\ITX_Screening_Test-master\\SortDataset\\images\\test\\G0064517.JPG: 448x640 1 pothole, 43.0ms\n",
            "image 123/236 D:\\ITX_Screening_Test-master\\SortDataset\\images\\test\\G0064520.JPG: 448x640 3 potholes, 42.5ms\n",
            "image 124/236 D:\\ITX_Screening_Test-master\\SortDataset\\images\\test\\G0064521.JPG: 448x640 5 potholes, 41.0ms\n",
            "image 125/236 D:\\ITX_Screening_Test-master\\SortDataset\\images\\test\\G0064522.JPG: 448x640 3 potholes, 38.2ms\n",
            "image 126/236 D:\\ITX_Screening_Test-master\\SortDataset\\images\\test\\G0064536.JPG: 448x640 1 pothole, 40.0ms\n",
            "image 127/236 D:\\ITX_Screening_Test-master\\SortDataset\\images\\test\\G0064539.JPG: 448x640 (no detections), 40.0ms\n",
            "image 128/236 D:\\ITX_Screening_Test-master\\SortDataset\\images\\test\\G0064548.JPG: 448x640 1 pothole, 40.0ms\n",
            "image 129/236 D:\\ITX_Screening_Test-master\\SortDataset\\images\\test\\G0064666.JPG: 448x640 (no detections), 39.2ms\n",
            "image 130/236 D:\\ITX_Screening_Test-master\\SortDataset\\images\\test\\G0064702.JPG: 448x640 (no detections), 38.0ms\n",
            "image 131/236 D:\\ITX_Screening_Test-master\\SortDataset\\images\\test\\G0064714.JPG: 448x640 1 pothole, 41.1ms\n",
            "image 132/236 D:\\ITX_Screening_Test-master\\SortDataset\\images\\test\\G0064739.JPG: 448x640 1 pothole, 38.0ms\n",
            "image 133/236 D:\\ITX_Screening_Test-master\\SortDataset\\images\\test\\G0064754.JPG: 448x640 3 potholes, 41.1ms\n",
            "image 134/236 D:\\ITX_Screening_Test-master\\SortDataset\\images\\test\\G0064797.JPG: 448x640 2 potholes, 40.0ms\n",
            "image 135/236 D:\\ITX_Screening_Test-master\\SortDataset\\images\\test\\G0064822.JPG: 448x640 3 potholes, 38.1ms\n",
            "image 136/236 D:\\ITX_Screening_Test-master\\SortDataset\\images\\test\\G0064857.JPG: 448x640 (no detections), 38.0ms\n",
            "image 137/236 D:\\ITX_Screening_Test-master\\SortDataset\\images\\test\\G0064858.JPG: 448x640 2 potholes, 38.0ms\n",
            "image 138/236 D:\\ITX_Screening_Test-master\\SortDataset\\images\\test\\G0064859.JPG: 448x640 1 pothole, 40.0ms\n",
            "image 139/236 D:\\ITX_Screening_Test-master\\SortDataset\\images\\test\\G0064868.JPG: 448x640 4 potholes, 38.0ms\n",
            "image 140/236 D:\\ITX_Screening_Test-master\\SortDataset\\images\\test\\G0064972.JPG: 448x640 1 pothole, 40.0ms\n",
            "image 141/236 D:\\ITX_Screening_Test-master\\SortDataset\\images\\test\\G0064999.JPG: 448x640 1 pothole, 38.0ms\n",
            "image 142/236 D:\\ITX_Screening_Test-master\\SortDataset\\images\\test\\G0065039.JPG: 448x640 (no detections), 39.1ms\n",
            "image 143/236 D:\\ITX_Screening_Test-master\\SortDataset\\images\\test\\G0065042.JPG: 448x640 1 pothole, 37.0ms\n",
            "image 144/236 D:\\ITX_Screening_Test-master\\SortDataset\\images\\test\\G0065273.JPG: 448x640 2 potholes, 41.0ms\n",
            "image 145/236 D:\\ITX_Screening_Test-master\\SortDataset\\images\\test\\G0065284.JPG: 448x640 2 potholes, 39.0ms\n",
            "image 146/236 D:\\ITX_Screening_Test-master\\SortDataset\\images\\test\\G0066086.JPG: 448x640 2 potholes, 37.2ms\n",
            "image 147/236 D:\\ITX_Screening_Test-master\\SortDataset\\images\\test\\G0066107.JPG: 448x640 2 potholes, 37.0ms\n",
            "image 148/236 D:\\ITX_Screening_Test-master\\SortDataset\\images\\test\\G0066342.JPG: 448x640 3 potholes, 41.1ms\n",
            "image 149/236 D:\\ITX_Screening_Test-master\\SortDataset\\images\\test\\G0066416.JPG: 448x640 1 pothole, 38.0ms\n",
            "image 150/236 D:\\ITX_Screening_Test-master\\SortDataset\\images\\test\\G0066491.JPG: 448x640 6 potholes, 38.2ms\n",
            "image 151/236 D:\\ITX_Screening_Test-master\\SortDataset\\images\\test\\G0066492.JPG: 448x640 3 potholes, 38.6ms\n",
            "image 152/236 D:\\ITX_Screening_Test-master\\SortDataset\\images\\test\\G0066552.JPG: 448x640 3 potholes, 40.5ms\n",
            "image 153/236 D:\\ITX_Screening_Test-master\\SortDataset\\images\\test\\G0066555.JPG: 448x640 4 potholes, 40.0ms\n",
            "image 154/236 D:\\ITX_Screening_Test-master\\SortDataset\\images\\test\\G0066563.JPG: 448x640 2 potholes, 38.1ms\n",
            "image 155/236 D:\\ITX_Screening_Test-master\\SortDataset\\images\\test\\G0066565.JPG: 448x640 7 potholes, 41.0ms\n",
            "image 156/236 D:\\ITX_Screening_Test-master\\SortDataset\\images\\test\\G0066574.JPG: 448x640 2 potholes, 38.1ms\n",
            "image 157/236 D:\\ITX_Screening_Test-master\\SortDataset\\images\\test\\G0066581.JPG: 448x640 4 potholes, 38.0ms\n",
            "image 158/236 D:\\ITX_Screening_Test-master\\SortDataset\\images\\test\\G0066593.JPG: 448x640 4 potholes, 39.0ms\n",
            "image 159/236 D:\\ITX_Screening_Test-master\\SortDataset\\images\\test\\G0066607.JPG: 448x640 8 potholes, 40.0ms\n",
            "image 160/236 D:\\ITX_Screening_Test-master\\SortDataset\\images\\test\\G0066610.JPG: 448x640 9 potholes, 40.0ms\n",
            "image 161/236 D:\\ITX_Screening_Test-master\\SortDataset\\images\\test\\G0066619.JPG: 448x640 5 potholes, 41.0ms\n",
            "image 162/236 D:\\ITX_Screening_Test-master\\SortDataset\\images\\test\\G0066620.JPG: 448x640 4 potholes, 41.5ms\n",
            "image 163/236 D:\\ITX_Screening_Test-master\\SortDataset\\images\\test\\G0066624.JPG: 448x640 9 potholes, 40.0ms\n",
            "image 164/236 D:\\ITX_Screening_Test-master\\SortDataset\\images\\test\\G0066626.JPG: 448x640 7 potholes, 42.2ms\n",
            "image 165/236 D:\\ITX_Screening_Test-master\\SortDataset\\images\\test\\G0066632.JPG: 448x640 4 potholes, 38.0ms\n",
            "image 166/236 D:\\ITX_Screening_Test-master\\SortDataset\\images\\test\\G0066634.JPG: 448x640 4 potholes, 39.0ms\n",
            "image 167/236 D:\\ITX_Screening_Test-master\\SortDataset\\images\\test\\G0066702.JPG: 448x640 2 potholes, 38.0ms\n",
            "image 168/236 D:\\ITX_Screening_Test-master\\SortDataset\\images\\test\\G0066703.JPG: 448x640 2 potholes, 41.0ms\n",
            "image 169/236 D:\\ITX_Screening_Test-master\\SortDataset\\images\\test\\G0066886.JPG: 448x640 (no detections), 39.0ms\n",
            "image 170/236 D:\\ITX_Screening_Test-master\\SortDataset\\images\\test\\G0066888.JPG: 448x640 3 potholes, 37.0ms\n",
            "image 171/236 D:\\ITX_Screening_Test-master\\SortDataset\\images\\test\\G0066905.JPG: 448x640 2 potholes, 37.0ms\n",
            "image 172/236 D:\\ITX_Screening_Test-master\\SortDataset\\images\\test\\G0066919.JPG: 448x640 1 pothole, 39.0ms\n",
            "image 173/236 D:\\ITX_Screening_Test-master\\SortDataset\\images\\test\\G0066932.JPG: 448x640 1 pothole, 39.2ms\n",
            "image 174/236 D:\\ITX_Screening_Test-master\\SortDataset\\images\\test\\G0066950.JPG: 448x640 2 potholes, 40.0ms\n",
            "image 175/236 D:\\ITX_Screening_Test-master\\SortDataset\\images\\test\\G0066987.JPG: 448x640 (no detections), 41.2ms\n",
            "image 176/236 D:\\ITX_Screening_Test-master\\SortDataset\\images\\test\\G0067041.JPG: 448x640 1 pothole, 37.0ms\n",
            "image 177/236 D:\\ITX_Screening_Test-master\\SortDataset\\images\\test\\G0067062.JPG: 448x640 2 potholes, 38.1ms\n",
            "image 178/236 D:\\ITX_Screening_Test-master\\SortDataset\\images\\test\\G0067064.JPG: 448x640 3 potholes, 38.0ms\n",
            "image 179/236 D:\\ITX_Screening_Test-master\\SortDataset\\images\\test\\G0067069.JPG: 448x640 1 pothole, 39.0ms\n",
            "image 180/236 D:\\ITX_Screening_Test-master\\SortDataset\\images\\test\\G0067083.JPG: 448x640 2 potholes, 41.0ms\n",
            "image 181/236 D:\\ITX_Screening_Test-master\\SortDataset\\images\\test\\G0073833.JPG: 448x640 2 potholes, 39.3ms\n",
            "image 182/236 D:\\ITX_Screening_Test-master\\SortDataset\\images\\test\\G0074098.JPG: 448x640 2 potholes, 40.0ms\n",
            "image 183/236 D:\\ITX_Screening_Test-master\\SortDataset\\images\\test\\G0077750.JPG: 448x640 1 pothole, 41.1ms\n",
            "image 184/236 D:\\ITX_Screening_Test-master\\SortDataset\\images\\test\\G0084373.JPG: 448x640 1 pothole, 42.0ms\n",
            "image 185/236 D:\\ITX_Screening_Test-master\\SortDataset\\images\\test\\G0084732.JPG: 448x640 (no detections), 40.5ms\n",
            "image 186/236 D:\\ITX_Screening_Test-master\\SortDataset\\images\\test\\G0088141.JPG: 448x640 2 potholes, 40.0ms\n",
            "image 187/236 D:\\ITX_Screening_Test-master\\SortDataset\\images\\test\\G0088174.JPG: 448x640 (no detections), 39.5ms\n",
            "image 188/236 D:\\ITX_Screening_Test-master\\SortDataset\\images\\test\\G0088175.JPG: 448x640 3 potholes, 40.0ms\n",
            "image 189/236 D:\\ITX_Screening_Test-master\\SortDataset\\images\\test\\G0088292.JPG: 448x640 1 pothole, 41.0ms\n",
            "image 190/236 D:\\ITX_Screening_Test-master\\SortDataset\\images\\test\\G0088599.JPG: 448x640 1 pothole, 43.0ms\n",
            "image 191/236 D:\\ITX_Screening_Test-master\\SortDataset\\images\\test\\G0088802.JPG: 448x640 7 potholes, 42.1ms\n",
            "image 192/236 D:\\ITX_Screening_Test-master\\SortDataset\\images\\test\\G0089105.JPG: 448x640 (no detections), 42.0ms\n",
            "image 193/236 D:\\ITX_Screening_Test-master\\SortDataset\\images\\test\\G0089361.JPG: 448x640 3 potholes, 42.2ms\n",
            "image 194/236 D:\\ITX_Screening_Test-master\\SortDataset\\images\\test\\G0089362.JPG: 448x640 1 pothole, 43.0ms\n",
            "image 195/236 D:\\ITX_Screening_Test-master\\SortDataset\\images\\test\\G0089518.JPG: 448x640 3 potholes, 42.1ms\n",
            "image 196/236 D:\\ITX_Screening_Test-master\\SortDataset\\images\\test\\G0089756.JPG: 448x640 1 pothole, 42.2ms\n",
            "image 197/236 D:\\ITX_Screening_Test-master\\SortDataset\\images\\test\\G0089825.JPG: 448x640 8 potholes, 40.5ms\n",
            "image 198/236 D:\\ITX_Screening_Test-master\\SortDataset\\images\\test\\G0089835.JPG: 448x640 1 pothole, 40.0ms\n",
            "image 199/236 D:\\ITX_Screening_Test-master\\SortDataset\\images\\test\\G0089837.JPG: 448x640 3 potholes, 39.3ms\n",
            "image 200/236 D:\\ITX_Screening_Test-master\\SortDataset\\images\\test\\G0089839.JPG: 448x640 4 potholes, 40.0ms\n",
            "image 201/236 D:\\ITX_Screening_Test-master\\SortDataset\\images\\test\\G0089867.JPG: 448x640 2 potholes, 42.5ms\n",
            "image 202/236 D:\\ITX_Screening_Test-master\\SortDataset\\images\\test\\G0089872.JPG: 448x640 3 potholes, 42.0ms\n",
            "image 203/236 D:\\ITX_Screening_Test-master\\SortDataset\\images\\test\\G0089878.JPG: 448x640 (no detections), 43.1ms\n",
            "image 204/236 D:\\ITX_Screening_Test-master\\SortDataset\\images\\test\\G0089879.JPG: 448x640 1 pothole, 42.0ms\n",
            "image 205/236 D:\\ITX_Screening_Test-master\\SortDataset\\images\\test\\G0090164.JPG: 448x640 1 pothole, 41.1ms\n",
            "image 206/236 D:\\ITX_Screening_Test-master\\SortDataset\\images\\test\\G0090183.JPG: 448x640 3 potholes, 42.0ms\n",
            "image 207/236 D:\\ITX_Screening_Test-master\\SortDataset\\images\\test\\G0090201.JPG: 448x640 2 potholes, 43.1ms\n",
            "image 208/236 D:\\ITX_Screening_Test-master\\SortDataset\\images\\test\\G0090209.JPG: 448x640 8 potholes, 41.0ms\n",
            "image 209/236 D:\\ITX_Screening_Test-master\\SortDataset\\images\\test\\G0090217.JPG: 448x640 3 potholes, 40.2ms\n",
            "image 210/236 D:\\ITX_Screening_Test-master\\SortDataset\\images\\test\\G0090218.JPG: 448x640 2 potholes, 39.0ms\n",
            "image 211/236 D:\\ITX_Screening_Test-master\\SortDataset\\images\\test\\G0090265.JPG: 448x640 1 pothole, 41.0ms\n",
            "image 212/236 D:\\ITX_Screening_Test-master\\SortDataset\\images\\test\\G0090297.JPG: 448x640 1 pothole, 40.6ms\n",
            "image 213/236 D:\\ITX_Screening_Test-master\\SortDataset\\images\\test\\G0090362.JPG: 448x640 1 pothole, 41.5ms\n",
            "image 214/236 D:\\ITX_Screening_Test-master\\SortDataset\\images\\test\\G0090375.JPG: 448x640 1 pothole, 41.0ms\n",
            "image 215/236 D:\\ITX_Screening_Test-master\\SortDataset\\images\\test\\G0090386.JPG: 448x640 2 potholes, 40.1ms\n",
            "image 216/236 D:\\ITX_Screening_Test-master\\SortDataset\\images\\test\\G0090431.JPG: 448x640 1 pothole, 41.0ms\n",
            "image 217/236 D:\\ITX_Screening_Test-master\\SortDataset\\images\\test\\G0094407.JPG: 448x640 1 pothole, 42.1ms\n",
            "image 218/236 D:\\ITX_Screening_Test-master\\SortDataset\\images\\test\\G0094459.JPG: 448x640 7 potholes, 39.0ms\n",
            "image 219/236 D:\\ITX_Screening_Test-master\\SortDataset\\images\\test\\G0094462.JPG: 448x640 1 pothole, 41.1ms\n",
            "image 220/236 D:\\ITX_Screening_Test-master\\SortDataset\\images\\test\\G0094478.JPG: 448x640 (no detections), 42.0ms\n",
            "image 221/236 D:\\ITX_Screening_Test-master\\SortDataset\\images\\test\\G0094482.JPG: 448x640 (no detections), 40.1ms\n",
            "image 222/236 D:\\ITX_Screening_Test-master\\SortDataset\\images\\test\\G0095123.JPG: 448x640 2 potholes, 40.0ms\n",
            "image 223/236 D:\\ITX_Screening_Test-master\\SortDataset\\images\\test\\G0114681.JPG: 448x640 2 potholes, 40.1ms\n",
            "image 224/236 D:\\ITX_Screening_Test-master\\SortDataset\\images\\test\\G0114707.JPG: 448x640 3 potholes, 40.0ms\n",
            "image 225/236 D:\\ITX_Screening_Test-master\\SortDataset\\images\\test\\G0114711.JPG: 448x640 2 potholes, 39.0ms\n",
            "image 226/236 D:\\ITX_Screening_Test-master\\SortDataset\\images\\test\\G0114712.JPG: 448x640 (no detections), 39.0ms\n",
            "image 227/236 D:\\ITX_Screening_Test-master\\SortDataset\\images\\test\\G0114816.JPG: 448x640 2 potholes, 38.0ms\n",
            "image 228/236 D:\\ITX_Screening_Test-master\\SortDataset\\images\\test\\G0135101.JPG: 448x640 2 potholes, 41.0ms\n",
            "image 229/236 D:\\ITX_Screening_Test-master\\SortDataset\\images\\test\\G0145163.JPG: 448x640 (no detections), 39.0ms\n",
            "image 230/236 D:\\ITX_Screening_Test-master\\SortDataset\\images\\test\\G0145165.JPG: 448x640 2 potholes, 40.0ms\n",
            "image 231/236 D:\\ITX_Screening_Test-master\\SortDataset\\images\\test\\G0151834.JPG: 448x640 1 pothole, 39.0ms\n",
            "image 232/236 D:\\ITX_Screening_Test-master\\SortDataset\\images\\test\\G0267326.JPG: 448x640 3 potholes, 38.0ms\n",
            "image 233/236 D:\\ITX_Screening_Test-master\\SortDataset\\images\\test\\G0325473.JPG: 448x640 1 pothole, 39.0ms\n",
            "image 234/236 D:\\ITX_Screening_Test-master\\SortDataset\\images\\test\\G0335491.JPG: 448x640 (no detections), 39.5ms\n",
            "image 235/236 D:\\ITX_Screening_Test-master\\SortDataset\\images\\test\\G0398363.JPG: 448x640 2 potholes, 40.0ms\n",
            "image 236/236 D:\\ITX_Screening_Test-master\\SortDataset\\images\\test\\G0459768.JPG: 448x640 1 pothole, 40.1ms\n",
            "Speed: 1.1ms preprocess, 39.7ms inference, 0.5ms postprocess per image at shape (1, 3, 448, 640)\n",
            "Results saved to \u001b[1mruns\\detect\\predict5\u001b[0m\n",
            "💡 Learn more at https://docs.ultralytics.com/modes/predict\n"
          ]
        }
      ],
      "source": [
        "!yolo task=detect mode=predict model=D:/YOLOv8/runs/detect/train6/weights/best.pt source='D:\\\\ITX_Screening_Test-master\\\\SortDataset\\\\images\\\\test' epochs=3 imgsz=640"
      ]
    },
    {
      "cell_type": "code",
      "execution_count": 4,
      "metadata": {},
      "outputs": [
        {
          "name": "stdout",
          "output_type": "stream",
          "text": [
            "\n",
            "image 1/1 D:\\ITX_Screening_Test-master\\SortDataset\\images\\test\\G0010119.JPG: 448x640 3 potholes, 43.0ms\n",
            "Speed: 1.0ms preprocess, 43.0ms inference, 0.0ms postprocess per image at shape (1, 3, 448, 640)\n",
            "\n",
            "image 1/236 D:\\ITX_Screening_Test-master\\SortDataset\\images\\test\\G0010119.jpg: 448x640 3 potholes, 40.1ms\n",
            "image 2/236 D:\\ITX_Screening_Test-master\\SortDataset\\images\\test\\G0011504.JPG: 448x640 1 pothole, 37.0ms\n",
            "image 3/236 D:\\ITX_Screening_Test-master\\SortDataset\\images\\test\\G0011523.JPG: 448x640 (no detections), 39.2ms\n",
            "image 4/236 D:\\ITX_Screening_Test-master\\SortDataset\\images\\test\\G0011573.JPG: 448x640 3 potholes, 40.0ms\n",
            "image 5/236 D:\\ITX_Screening_Test-master\\SortDataset\\images\\test\\G0011678.JPG: 448x640 1 pothole, 39.0ms\n",
            "image 6/236 D:\\ITX_Screening_Test-master\\SortDataset\\images\\test\\G0011769.JPG: 448x640 1 pothole, 40.0ms\n",
            "image 7/236 D:\\ITX_Screening_Test-master\\SortDataset\\images\\test\\G0011978.JPG: 448x640 2 potholes, 37.3ms\n",
            "image 8/236 D:\\ITX_Screening_Test-master\\SortDataset\\images\\test\\G0011982.JPG: 448x640 1 pothole, 38.0ms\n",
            "image 9/236 D:\\ITX_Screening_Test-master\\SortDataset\\images\\test\\G0011988.JPG: 448x640 1 pothole, 38.1ms\n",
            "image 10/236 D:\\ITX_Screening_Test-master\\SortDataset\\images\\test\\G0012012.JPG: 448x640 1 pothole, 39.0ms\n",
            "image 11/236 D:\\ITX_Screening_Test-master\\SortDataset\\images\\test\\G0012022.JPG: 448x640 1 pothole, 38.0ms\n",
            "image 12/236 D:\\ITX_Screening_Test-master\\SortDataset\\images\\test\\G0016157.JPG: 448x640 1 pothole, 38.0ms\n",
            "image 13/236 D:\\ITX_Screening_Test-master\\SortDataset\\images\\test\\G0016245.JPG: 448x640 1 pothole, 41.0ms\n",
            "image 14/236 D:\\ITX_Screening_Test-master\\SortDataset\\images\\test\\G0016517.JPG: 448x640 1 pothole, 38.0ms\n",
            "image 15/236 D:\\ITX_Screening_Test-master\\SortDataset\\images\\test\\G0022107.JPG: 448x640 1 pothole, 38.0ms\n",
            "image 16/236 D:\\ITX_Screening_Test-master\\SortDataset\\images\\test\\G0024589.JPG: 448x640 4 potholes, 38.1ms\n",
            "image 17/236 D:\\ITX_Screening_Test-master\\SortDataset\\images\\test\\G0024751.JPG: 448x640 4 potholes, 41.0ms\n",
            "image 18/236 D:\\ITX_Screening_Test-master\\SortDataset\\images\\test\\G0024754.JPG: 448x640 1 pothole, 42.1ms\n",
            "image 19/236 D:\\ITX_Screening_Test-master\\SortDataset\\images\\test\\G0025080.JPG: 448x640 2 potholes, 41.0ms\n",
            "image 20/236 D:\\ITX_Screening_Test-master\\SortDataset\\images\\test\\G0025405.JPG: 448x640 (no detections), 40.0ms\n",
            "image 21/236 D:\\ITX_Screening_Test-master\\SortDataset\\images\\test\\G0026516.JPG: 448x640 (no detections), 42.0ms\n",
            "image 22/236 D:\\ITX_Screening_Test-master\\SortDataset\\images\\test\\G0026521.JPG: 448x640 1 pothole, 42.0ms\n",
            "image 23/236 D:\\ITX_Screening_Test-master\\SortDataset\\images\\test\\G0026801.JPG: 448x640 2 potholes, 44.0ms\n",
            "image 24/236 D:\\ITX_Screening_Test-master\\SortDataset\\images\\test\\G0026955.JPG: 448x640 1 pothole, 42.0ms\n",
            "image 25/236 D:\\ITX_Screening_Test-master\\SortDataset\\images\\test\\G0027527.JPG: 448x640 1 pothole, 39.0ms\n",
            "image 26/236 D:\\ITX_Screening_Test-master\\SortDataset\\images\\test\\G0027591.JPG: 448x640 1 pothole, 39.0ms\n",
            "image 27/236 D:\\ITX_Screening_Test-master\\SortDataset\\images\\test\\G0027798.JPG: 448x640 2 potholes, 39.0ms\n",
            "image 28/236 D:\\ITX_Screening_Test-master\\SortDataset\\images\\test\\G0027850.JPG: 448x640 (no detections), 38.0ms\n",
            "image 29/236 D:\\ITX_Screening_Test-master\\SortDataset\\images\\test\\G0027852.JPG: 448x640 1 pothole, 37.0ms\n",
            "image 30/236 D:\\ITX_Screening_Test-master\\SortDataset\\images\\test\\G0027854.JPG: 448x640 3 potholes, 39.0ms\n",
            "image 31/236 D:\\ITX_Screening_Test-master\\SortDataset\\images\\test\\G0027860.JPG: 448x640 1 pothole, 39.0ms\n",
            "image 32/236 D:\\ITX_Screening_Test-master\\SortDataset\\images\\test\\G0027889.JPG: 448x640 (no detections), 40.1ms\n",
            "image 33/236 D:\\ITX_Screening_Test-master\\SortDataset\\images\\test\\G0027894.JPG: 448x640 2 potholes, 42.0ms\n",
            "image 34/236 D:\\ITX_Screening_Test-master\\SortDataset\\images\\test\\G0027991.JPG: 448x640 1 pothole, 40.0ms\n",
            "image 35/236 D:\\ITX_Screening_Test-master\\SortDataset\\images\\test\\G0028195.JPG: 448x640 (no detections), 38.0ms\n",
            "image 36/236 D:\\ITX_Screening_Test-master\\SortDataset\\images\\test\\G0028199.JPG: 448x640 1 pothole, 38.1ms\n",
            "image 37/236 D:\\ITX_Screening_Test-master\\SortDataset\\images\\test\\G0028268.JPG: 448x640 1 pothole, 40.0ms\n",
            "image 38/236 D:\\ITX_Screening_Test-master\\SortDataset\\images\\test\\G0028276.JPG: 448x640 1 pothole, 38.1ms\n",
            "image 39/236 D:\\ITX_Screening_Test-master\\SortDataset\\images\\test\\G0028284.JPG: 448x640 1 pothole, 38.0ms\n",
            "image 40/236 D:\\ITX_Screening_Test-master\\SortDataset\\images\\test\\G0028288.JPG: 448x640 1 pothole, 38.1ms\n",
            "image 41/236 D:\\ITX_Screening_Test-master\\SortDataset\\images\\test\\G0028289.JPG: 448x640 (no detections), 41.0ms\n",
            "image 42/236 D:\\ITX_Screening_Test-master\\SortDataset\\images\\test\\G0028300.JPG: 448x640 3 potholes, 37.0ms\n",
            "image 43/236 D:\\ITX_Screening_Test-master\\SortDataset\\images\\test\\G0028304.JPG: 448x640 1 pothole, 37.0ms\n",
            "image 44/236 D:\\ITX_Screening_Test-master\\SortDataset\\images\\test\\G0028338.JPG: 448x640 3 potholes, 40.1ms\n",
            "image 45/236 D:\\ITX_Screening_Test-master\\SortDataset\\images\\test\\G0028394.JPG: 448x640 2 potholes, 40.0ms\n",
            "image 46/236 D:\\ITX_Screening_Test-master\\SortDataset\\images\\test\\G0028398.JPG: 448x640 3 potholes, 40.0ms\n",
            "image 47/236 D:\\ITX_Screening_Test-master\\SortDataset\\images\\test\\G0028490.JPG: 448x640 2 potholes, 42.0ms\n",
            "image 48/236 D:\\ITX_Screening_Test-master\\SortDataset\\images\\test\\G0028492.JPG: 448x640 2 potholes, 41.1ms\n",
            "image 49/236 D:\\ITX_Screening_Test-master\\SortDataset\\images\\test\\G0028503.JPG: 448x640 1 pothole, 41.6ms\n",
            "image 50/236 D:\\ITX_Screening_Test-master\\SortDataset\\images\\test\\G0028514.JPG: 448x640 1 pothole, 38.5ms\n",
            "image 51/236 D:\\ITX_Screening_Test-master\\SortDataset\\images\\test\\G0028545.JPG: 448x640 2 potholes, 40.0ms\n",
            "image 52/236 D:\\ITX_Screening_Test-master\\SortDataset\\images\\test\\G0028818.JPG: 448x640 2 potholes, 39.0ms\n",
            "image 53/236 D:\\ITX_Screening_Test-master\\SortDataset\\images\\test\\G0028959.JPG: 448x640 1 pothole, 38.0ms\n",
            "image 54/236 D:\\ITX_Screening_Test-master\\SortDataset\\images\\test\\G0028976.JPG: 448x640 2 potholes, 39.1ms\n",
            "image 55/236 D:\\ITX_Screening_Test-master\\SortDataset\\images\\test\\G0029019.JPG: 448x640 3 potholes, 39.0ms\n",
            "image 56/236 D:\\ITX_Screening_Test-master\\SortDataset\\images\\test\\G0029088.JPG: 448x640 1 pothole, 38.2ms\n",
            "image 57/236 D:\\ITX_Screening_Test-master\\SortDataset\\images\\test\\G0029261.JPG: 448x640 1 pothole, 39.0ms\n",
            "image 58/236 D:\\ITX_Screening_Test-master\\SortDataset\\images\\test\\G0029312.JPG: 448x640 (no detections), 40.1ms\n",
            "image 59/236 D:\\ITX_Screening_Test-master\\SortDataset\\images\\test\\G0029320.JPG: 448x640 1 pothole, 40.0ms\n",
            "image 60/236 D:\\ITX_Screening_Test-master\\SortDataset\\images\\test\\G0029358.JPG: 448x640 1 pothole, 39.0ms\n",
            "image 61/236 D:\\ITX_Screening_Test-master\\SortDataset\\images\\test\\G0029452.JPG: 448x640 1 pothole, 38.0ms\n",
            "image 62/236 D:\\ITX_Screening_Test-master\\SortDataset\\images\\test\\G0029455.JPG: 448x640 1 pothole, 38.0ms\n",
            "image 63/236 D:\\ITX_Screening_Test-master\\SortDataset\\images\\test\\G0029603.JPG: 448x640 1 pothole, 40.0ms\n",
            "image 64/236 D:\\ITX_Screening_Test-master\\SortDataset\\images\\test\\G0029867.JPG: 448x640 1 pothole, 38.0ms\n",
            "image 65/236 D:\\ITX_Screening_Test-master\\SortDataset\\images\\test\\G0029879.JPG: 448x640 1 pothole, 40.0ms\n",
            "image 66/236 D:\\ITX_Screening_Test-master\\SortDataset\\images\\test\\G0029948.JPG: 448x640 2 potholes, 40.0ms\n",
            "image 67/236 D:\\ITX_Screening_Test-master\\SortDataset\\images\\test\\G0030003.JPG: 448x640 3 potholes, 39.0ms\n",
            "image 68/236 D:\\ITX_Screening_Test-master\\SortDataset\\images\\test\\G0030004.JPG: 448x640 2 potholes, 43.0ms\n",
            "image 69/236 D:\\ITX_Screening_Test-master\\SortDataset\\images\\test\\G0030138.JPG: 448x640 (no detections), 41.0ms\n",
            "image 70/236 D:\\ITX_Screening_Test-master\\SortDataset\\images\\test\\G0030286.JPG: 448x640 3 potholes, 41.0ms\n",
            "image 71/236 D:\\ITX_Screening_Test-master\\SortDataset\\images\\test\\G0030660.JPG: 448x640 1 pothole, 42.0ms\n",
            "image 72/236 D:\\ITX_Screening_Test-master\\SortDataset\\images\\test\\G0030661.JPG: 448x640 1 pothole, 41.0ms\n",
            "image 73/236 D:\\ITX_Screening_Test-master\\SortDataset\\images\\test\\G0030971.JPG: 448x640 1 pothole, 41.0ms\n",
            "image 74/236 D:\\ITX_Screening_Test-master\\SortDataset\\images\\test\\G0031212.JPG: 448x640 (no detections), 39.0ms\n",
            "image 75/236 D:\\ITX_Screening_Test-master\\SortDataset\\images\\test\\G0031370.JPG: 448x640 7 potholes, 42.0ms\n",
            "image 76/236 D:\\ITX_Screening_Test-master\\SortDataset\\images\\test\\G0031372.JPG: 448x640 2 potholes, 39.1ms\n",
            "image 77/236 D:\\ITX_Screening_Test-master\\SortDataset\\images\\test\\G0031378.JPG: 448x640 3 potholes, 38.0ms\n",
            "image 78/236 D:\\ITX_Screening_Test-master\\SortDataset\\images\\test\\G0031379.JPG: 448x640 3 potholes, 43.1ms\n",
            "image 79/236 D:\\ITX_Screening_Test-master\\SortDataset\\images\\test\\G0031530.JPG: 448x640 1 pothole, 43.0ms\n",
            "image 80/236 D:\\ITX_Screening_Test-master\\SortDataset\\images\\test\\G0031736.JPG: 448x640 3 potholes, 41.1ms\n",
            "image 81/236 D:\\ITX_Screening_Test-master\\SortDataset\\images\\test\\G0032035.JPG: 448x640 3 potholes, 40.0ms\n",
            "image 82/236 D:\\ITX_Screening_Test-master\\SortDataset\\images\\test\\G0032335.JPG: 448x640 3 potholes, 39.3ms\n",
            "image 83/236 D:\\ITX_Screening_Test-master\\SortDataset\\images\\test\\G0032336.JPG: 448x640 1 pothole, 40.0ms\n",
            "image 84/236 D:\\ITX_Screening_Test-master\\SortDataset\\images\\test\\G0040508.JPG: 448x640 1 pothole, 40.1ms\n",
            "image 85/236 D:\\ITX_Screening_Test-master\\SortDataset\\images\\test\\G0040544.JPG: 448x640 1 pothole, 40.0ms\n",
            "image 86/236 D:\\ITX_Screening_Test-master\\SortDataset\\images\\test\\G0040661.JPG: 448x640 (no detections), 39.0ms\n",
            "image 87/236 D:\\ITX_Screening_Test-master\\SortDataset\\images\\test\\G0041017.JPG: 448x640 1 pothole, 38.0ms\n",
            "image 88/236 D:\\ITX_Screening_Test-master\\SortDataset\\images\\test\\G0041018.JPG: 448x640 3 potholes, 38.0ms\n",
            "image 89/236 D:\\ITX_Screening_Test-master\\SortDataset\\images\\test\\G0041149.JPG: 448x640 1 pothole, 37.0ms\n",
            "image 90/236 D:\\ITX_Screening_Test-master\\SortDataset\\images\\test\\G0041189.JPG: 448x640 4 potholes, 39.0ms\n",
            "image 91/236 D:\\ITX_Screening_Test-master\\SortDataset\\images\\test\\G0041236.JPG: 448x640 1 pothole, 41.0ms\n",
            "image 92/236 D:\\ITX_Screening_Test-master\\SortDataset\\images\\test\\G0041437.JPG: 448x640 1 pothole, 39.0ms\n",
            "image 93/236 D:\\ITX_Screening_Test-master\\SortDataset\\images\\test\\G0041509.JPG: 448x640 3 potholes, 40.0ms\n",
            "image 94/236 D:\\ITX_Screening_Test-master\\SortDataset\\images\\test\\G0041794.JPG: 448x640 (no detections), 43.0ms\n",
            "image 95/236 D:\\ITX_Screening_Test-master\\SortDataset\\images\\test\\G0041939.JPG: 448x640 1 pothole, 44.0ms\n",
            "image 96/236 D:\\ITX_Screening_Test-master\\SortDataset\\images\\test\\G0041941.JPG: 448x640 1 pothole, 41.0ms\n",
            "image 97/236 D:\\ITX_Screening_Test-master\\SortDataset\\images\\test\\G0043321.JPG: 448x640 3 potholes, 39.0ms\n",
            "image 98/236 D:\\ITX_Screening_Test-master\\SortDataset\\images\\test\\G0051938.JPG: 448x640 (no detections), 39.0ms\n",
            "image 99/236 D:\\ITX_Screening_Test-master\\SortDataset\\images\\test\\G0051942.JPG: 448x640 (no detections), 39.0ms\n",
            "image 100/236 D:\\ITX_Screening_Test-master\\SortDataset\\images\\test\\G0051944.JPG: 448x640 1 pothole, 37.0ms\n",
            "image 101/236 D:\\ITX_Screening_Test-master\\SortDataset\\images\\test\\G0052005.JPG: 448x640 (no detections), 38.5ms\n",
            "image 102/236 D:\\ITX_Screening_Test-master\\SortDataset\\images\\test\\G0052122.JPG: 448x640 1 pothole, 38.0ms\n",
            "image 103/236 D:\\ITX_Screening_Test-master\\SortDataset\\images\\test\\G0052192.JPG: 448x640 1 pothole, 38.1ms\n",
            "image 104/236 D:\\ITX_Screening_Test-master\\SortDataset\\images\\test\\G0052398.JPG: 448x640 (no detections), 39.0ms\n",
            "image 105/236 D:\\ITX_Screening_Test-master\\SortDataset\\images\\test\\G0052405.JPG: 448x640 1 pothole, 39.1ms\n",
            "image 106/236 D:\\ITX_Screening_Test-master\\SortDataset\\images\\test\\G0052425.JPG: 448x640 1 pothole, 40.0ms\n",
            "image 107/236 D:\\ITX_Screening_Test-master\\SortDataset\\images\\test\\G0052686.JPG: 448x640 1 pothole, 42.0ms\n",
            "image 108/236 D:\\ITX_Screening_Test-master\\SortDataset\\images\\test\\G0052692.JPG: 448x640 (no detections), 41.0ms\n",
            "image 109/236 D:\\ITX_Screening_Test-master\\SortDataset\\images\\test\\G0052784.JPG: 448x640 3 potholes, 41.8ms\n",
            "image 110/236 D:\\ITX_Screening_Test-master\\SortDataset\\images\\test\\G0052787.JPG: 448x640 1 pothole, 40.7ms\n",
            "image 111/236 D:\\ITX_Screening_Test-master\\SortDataset\\images\\test\\G0053103.JPG: 448x640 1 pothole, 38.1ms\n",
            "image 112/236 D:\\ITX_Screening_Test-master\\SortDataset\\images\\test\\G0063500.JPG: 448x640 1 pothole, 37.0ms\n",
            "image 113/236 D:\\ITX_Screening_Test-master\\SortDataset\\images\\test\\G0063924.JPG: 448x640 4 potholes, 47.1ms\n",
            "image 114/236 D:\\ITX_Screening_Test-master\\SortDataset\\images\\test\\G0064185.JPG: 448x640 1 pothole, 39.0ms\n",
            "image 115/236 D:\\ITX_Screening_Test-master\\SortDataset\\images\\test\\G0064408.JPG: 448x640 2 potholes, 41.2ms\n",
            "image 116/236 D:\\ITX_Screening_Test-master\\SortDataset\\images\\test\\G0064410.JPG: 448x640 2 potholes, 38.0ms\n",
            "image 117/236 D:\\ITX_Screening_Test-master\\SortDataset\\images\\test\\G0064412.JPG: 448x640 1 pothole, 40.1ms\n",
            "image 118/236 D:\\ITX_Screening_Test-master\\SortDataset\\images\\test\\G0064415.JPG: 448x640 1 pothole, 42.0ms\n",
            "image 119/236 D:\\ITX_Screening_Test-master\\SortDataset\\images\\test\\G0064444.JPG: 448x640 3 potholes, 41.1ms\n",
            "image 120/236 D:\\ITX_Screening_Test-master\\SortDataset\\images\\test\\G0064452.JPG: 448x640 (no detections), 39.0ms\n",
            "image 121/236 D:\\ITX_Screening_Test-master\\SortDataset\\images\\test\\G0064516.JPG: 448x640 1 pothole, 38.0ms\n",
            "image 122/236 D:\\ITX_Screening_Test-master\\SortDataset\\images\\test\\G0064517.JPG: 448x640 1 pothole, 40.0ms\n",
            "image 123/236 D:\\ITX_Screening_Test-master\\SortDataset\\images\\test\\G0064520.JPG: 448x640 3 potholes, 40.0ms\n",
            "image 124/236 D:\\ITX_Screening_Test-master\\SortDataset\\images\\test\\G0064521.JPG: 448x640 5 potholes, 39.0ms\n",
            "image 125/236 D:\\ITX_Screening_Test-master\\SortDataset\\images\\test\\G0064522.JPG: 448x640 3 potholes, 41.0ms\n",
            "image 126/236 D:\\ITX_Screening_Test-master\\SortDataset\\images\\test\\G0064536.JPG: 448x640 1 pothole, 41.0ms\n",
            "image 127/236 D:\\ITX_Screening_Test-master\\SortDataset\\images\\test\\G0064539.JPG: 448x640 (no detections), 39.1ms\n",
            "image 128/236 D:\\ITX_Screening_Test-master\\SortDataset\\images\\test\\G0064548.JPG: 448x640 1 pothole, 41.0ms\n",
            "image 129/236 D:\\ITX_Screening_Test-master\\SortDataset\\images\\test\\G0064666.JPG: 448x640 (no detections), 41.2ms\n",
            "image 130/236 D:\\ITX_Screening_Test-master\\SortDataset\\images\\test\\G0064702.JPG: 448x640 (no detections), 40.0ms\n",
            "image 131/236 D:\\ITX_Screening_Test-master\\SortDataset\\images\\test\\G0064714.JPG: 448x640 1 pothole, 40.1ms\n",
            "image 132/236 D:\\ITX_Screening_Test-master\\SortDataset\\images\\test\\G0064739.JPG: 448x640 1 pothole, 37.0ms\n",
            "image 133/236 D:\\ITX_Screening_Test-master\\SortDataset\\images\\test\\G0064754.JPG: 448x640 3 potholes, 40.1ms\n",
            "image 134/236 D:\\ITX_Screening_Test-master\\SortDataset\\images\\test\\G0064797.JPG: 448x640 2 potholes, 38.0ms\n",
            "image 135/236 D:\\ITX_Screening_Test-master\\SortDataset\\images\\test\\G0064822.JPG: 448x640 3 potholes, 38.0ms\n",
            "image 136/236 D:\\ITX_Screening_Test-master\\SortDataset\\images\\test\\G0064857.JPG: 448x640 (no detections), 37.0ms\n",
            "image 137/236 D:\\ITX_Screening_Test-master\\SortDataset\\images\\test\\G0064858.JPG: 448x640 2 potholes, 38.2ms\n",
            "image 138/236 D:\\ITX_Screening_Test-master\\SortDataset\\images\\test\\G0064859.JPG: 448x640 1 pothole, 39.0ms\n",
            "image 139/236 D:\\ITX_Screening_Test-master\\SortDataset\\images\\test\\G0064868.JPG: 448x640 4 potholes, 39.1ms\n",
            "image 140/236 D:\\ITX_Screening_Test-master\\SortDataset\\images\\test\\G0064972.JPG: 448x640 1 pothole, 38.0ms\n",
            "image 141/236 D:\\ITX_Screening_Test-master\\SortDataset\\images\\test\\G0064999.JPG: 448x640 1 pothole, 39.1ms\n",
            "image 142/236 D:\\ITX_Screening_Test-master\\SortDataset\\images\\test\\G0065039.JPG: 448x640 (no detections), 40.0ms\n",
            "image 143/236 D:\\ITX_Screening_Test-master\\SortDataset\\images\\test\\G0065042.JPG: 448x640 1 pothole, 38.1ms\n",
            "image 144/236 D:\\ITX_Screening_Test-master\\SortDataset\\images\\test\\G0065273.JPG: 448x640 2 potholes, 40.0ms\n",
            "image 145/236 D:\\ITX_Screening_Test-master\\SortDataset\\images\\test\\G0065284.JPG: 448x640 2 potholes, 41.2ms\n",
            "image 146/236 D:\\ITX_Screening_Test-master\\SortDataset\\images\\test\\G0066086.JPG: 448x640 2 potholes, 39.0ms\n",
            "image 147/236 D:\\ITX_Screening_Test-master\\SortDataset\\images\\test\\G0066107.JPG: 448x640 2 potholes, 42.0ms\n",
            "image 148/236 D:\\ITX_Screening_Test-master\\SortDataset\\images\\test\\G0066342.JPG: 448x640 3 potholes, 42.0ms\n",
            "image 149/236 D:\\ITX_Screening_Test-master\\SortDataset\\images\\test\\G0066416.JPG: 448x640 1 pothole, 42.0ms\n",
            "image 150/236 D:\\ITX_Screening_Test-master\\SortDataset\\images\\test\\G0066491.JPG: 448x640 6 potholes, 44.0ms\n",
            "image 151/236 D:\\ITX_Screening_Test-master\\SortDataset\\images\\test\\G0066492.JPG: 448x640 3 potholes, 42.0ms\n",
            "image 152/236 D:\\ITX_Screening_Test-master\\SortDataset\\images\\test\\G0066552.JPG: 448x640 3 potholes, 39.0ms\n",
            "image 153/236 D:\\ITX_Screening_Test-master\\SortDataset\\images\\test\\G0066555.JPG: 448x640 4 potholes, 38.1ms\n",
            "image 154/236 D:\\ITX_Screening_Test-master\\SortDataset\\images\\test\\G0066563.JPG: 448x640 2 potholes, 37.0ms\n",
            "image 155/236 D:\\ITX_Screening_Test-master\\SortDataset\\images\\test\\G0066565.JPG: 448x640 7 potholes, 37.1ms\n",
            "image 156/236 D:\\ITX_Screening_Test-master\\SortDataset\\images\\test\\G0066574.JPG: 448x640 2 potholes, 38.0ms\n",
            "image 157/236 D:\\ITX_Screening_Test-master\\SortDataset\\images\\test\\G0066581.JPG: 448x640 4 potholes, 37.2ms\n",
            "image 158/236 D:\\ITX_Screening_Test-master\\SortDataset\\images\\test\\G0066593.JPG: 448x640 4 potholes, 38.0ms\n",
            "image 159/236 D:\\ITX_Screening_Test-master\\SortDataset\\images\\test\\G0066607.JPG: 448x640 8 potholes, 38.1ms\n",
            "image 160/236 D:\\ITX_Screening_Test-master\\SortDataset\\images\\test\\G0066610.JPG: 448x640 9 potholes, 39.0ms\n",
            "image 161/236 D:\\ITX_Screening_Test-master\\SortDataset\\images\\test\\G0066619.JPG: 448x640 5 potholes, 40.0ms\n",
            "image 162/236 D:\\ITX_Screening_Test-master\\SortDataset\\images\\test\\G0066620.JPG: 448x640 4 potholes, 38.0ms\n",
            "image 163/236 D:\\ITX_Screening_Test-master\\SortDataset\\images\\test\\G0066624.JPG: 448x640 9 potholes, 38.0ms\n",
            "image 164/236 D:\\ITX_Screening_Test-master\\SortDataset\\images\\test\\G0066626.JPG: 448x640 7 potholes, 38.0ms\n",
            "image 165/236 D:\\ITX_Screening_Test-master\\SortDataset\\images\\test\\G0066632.JPG: 448x640 4 potholes, 38.0ms\n",
            "image 166/236 D:\\ITX_Screening_Test-master\\SortDataset\\images\\test\\G0066634.JPG: 448x640 4 potholes, 39.0ms\n",
            "image 167/236 D:\\ITX_Screening_Test-master\\SortDataset\\images\\test\\G0066702.JPG: 448x640 2 potholes, 38.3ms\n",
            "image 168/236 D:\\ITX_Screening_Test-master\\SortDataset\\images\\test\\G0066703.JPG: 448x640 2 potholes, 41.5ms\n",
            "image 169/236 D:\\ITX_Screening_Test-master\\SortDataset\\images\\test\\G0066886.JPG: 448x640 (no detections), 39.0ms\n",
            "image 170/236 D:\\ITX_Screening_Test-master\\SortDataset\\images\\test\\G0066888.JPG: 448x640 3 potholes, 39.1ms\n",
            "image 171/236 D:\\ITX_Screening_Test-master\\SortDataset\\images\\test\\G0066905.JPG: 448x640 2 potholes, 39.6ms\n",
            "image 172/236 D:\\ITX_Screening_Test-master\\SortDataset\\images\\test\\G0066919.JPG: 448x640 1 pothole, 39.5ms\n",
            "image 173/236 D:\\ITX_Screening_Test-master\\SortDataset\\images\\test\\G0066932.JPG: 448x640 1 pothole, 42.0ms\n",
            "image 174/236 D:\\ITX_Screening_Test-master\\SortDataset\\images\\test\\G0066950.JPG: 448x640 2 potholes, 41.4ms\n",
            "image 175/236 D:\\ITX_Screening_Test-master\\SortDataset\\images\\test\\G0066987.JPG: 448x640 (no detections), 40.0ms\n",
            "image 176/236 D:\\ITX_Screening_Test-master\\SortDataset\\images\\test\\G0067041.JPG: 448x640 1 pothole, 37.0ms\n",
            "image 177/236 D:\\ITX_Screening_Test-master\\SortDataset\\images\\test\\G0067062.JPG: 448x640 2 potholes, 38.0ms\n",
            "image 178/236 D:\\ITX_Screening_Test-master\\SortDataset\\images\\test\\G0067064.JPG: 448x640 3 potholes, 38.1ms\n",
            "image 179/236 D:\\ITX_Screening_Test-master\\SortDataset\\images\\test\\G0067069.JPG: 448x640 1 pothole, 37.0ms\n",
            "image 180/236 D:\\ITX_Screening_Test-master\\SortDataset\\images\\test\\G0067083.JPG: 448x640 2 potholes, 38.1ms\n",
            "image 181/236 D:\\ITX_Screening_Test-master\\SortDataset\\images\\test\\G0073833.JPG: 448x640 2 potholes, 38.0ms\n",
            "image 182/236 D:\\ITX_Screening_Test-master\\SortDataset\\images\\test\\G0074098.JPG: 448x640 2 potholes, 39.1ms\n",
            "image 183/236 D:\\ITX_Screening_Test-master\\SortDataset\\images\\test\\G0077750.JPG: 448x640 1 pothole, 39.0ms\n",
            "image 184/236 D:\\ITX_Screening_Test-master\\SortDataset\\images\\test\\G0084373.JPG: 448x640 1 pothole, 39.1ms\n",
            "image 185/236 D:\\ITX_Screening_Test-master\\SortDataset\\images\\test\\G0084732.JPG: 448x640 (no detections), 41.0ms\n",
            "image 186/236 D:\\ITX_Screening_Test-master\\SortDataset\\images\\test\\G0088141.JPG: 448x640 2 potholes, 39.2ms\n",
            "image 187/236 D:\\ITX_Screening_Test-master\\SortDataset\\images\\test\\G0088174.JPG: 448x640 (no detections), 39.0ms\n",
            "image 188/236 D:\\ITX_Screening_Test-master\\SortDataset\\images\\test\\G0088175.JPG: 448x640 3 potholes, 39.0ms\n",
            "image 189/236 D:\\ITX_Screening_Test-master\\SortDataset\\images\\test\\G0088292.JPG: 448x640 1 pothole, 40.0ms\n",
            "image 190/236 D:\\ITX_Screening_Test-master\\SortDataset\\images\\test\\G0088599.JPG: 448x640 1 pothole, 43.0ms\n",
            "image 191/236 D:\\ITX_Screening_Test-master\\SortDataset\\images\\test\\G0088802.JPG: 448x640 7 potholes, 37.0ms\n",
            "image 192/236 D:\\ITX_Screening_Test-master\\SortDataset\\images\\test\\G0089105.JPG: 448x640 (no detections), 38.1ms\n",
            "image 193/236 D:\\ITX_Screening_Test-master\\SortDataset\\images\\test\\G0089361.JPG: 448x640 3 potholes, 38.0ms\n",
            "image 194/236 D:\\ITX_Screening_Test-master\\SortDataset\\images\\test\\G0089362.JPG: 448x640 1 pothole, 36.0ms\n",
            "image 195/236 D:\\ITX_Screening_Test-master\\SortDataset\\images\\test\\G0089518.JPG: 448x640 3 potholes, 43.0ms\n",
            "image 196/236 D:\\ITX_Screening_Test-master\\SortDataset\\images\\test\\G0089756.JPG: 448x640 1 pothole, 37.0ms\n",
            "image 197/236 D:\\ITX_Screening_Test-master\\SortDataset\\images\\test\\G0089825.JPG: 448x640 8 potholes, 39.0ms\n",
            "image 198/236 D:\\ITX_Screening_Test-master\\SortDataset\\images\\test\\G0089835.JPG: 448x640 1 pothole, 37.7ms\n",
            "image 199/236 D:\\ITX_Screening_Test-master\\SortDataset\\images\\test\\G0089837.JPG: 448x640 3 potholes, 37.0ms\n",
            "image 200/236 D:\\ITX_Screening_Test-master\\SortDataset\\images\\test\\G0089839.JPG: 448x640 4 potholes, 38.5ms\n",
            "image 201/236 D:\\ITX_Screening_Test-master\\SortDataset\\images\\test\\G0089867.JPG: 448x640 2 potholes, 39.0ms\n",
            "image 202/236 D:\\ITX_Screening_Test-master\\SortDataset\\images\\test\\G0089872.JPG: 448x640 3 potholes, 41.1ms\n",
            "image 203/236 D:\\ITX_Screening_Test-master\\SortDataset\\images\\test\\G0089878.JPG: 448x640 (no detections), 41.0ms\n",
            "image 204/236 D:\\ITX_Screening_Test-master\\SortDataset\\images\\test\\G0089879.JPG: 448x640 1 pothole, 40.1ms\n",
            "image 205/236 D:\\ITX_Screening_Test-master\\SortDataset\\images\\test\\G0090164.JPG: 448x640 1 pothole, 39.0ms\n",
            "image 206/236 D:\\ITX_Screening_Test-master\\SortDataset\\images\\test\\G0090183.JPG: 448x640 3 potholes, 38.0ms\n",
            "image 207/236 D:\\ITX_Screening_Test-master\\SortDataset\\images\\test\\G0090201.JPG: 448x640 2 potholes, 38.0ms\n",
            "image 208/236 D:\\ITX_Screening_Test-master\\SortDataset\\images\\test\\G0090209.JPG: 448x640 8 potholes, 37.0ms\n",
            "image 209/236 D:\\ITX_Screening_Test-master\\SortDataset\\images\\test\\G0090217.JPG: 448x640 3 potholes, 39.0ms\n",
            "image 210/236 D:\\ITX_Screening_Test-master\\SortDataset\\images\\test\\G0090218.JPG: 448x640 2 potholes, 38.0ms\n",
            "image 211/236 D:\\ITX_Screening_Test-master\\SortDataset\\images\\test\\G0090265.JPG: 448x640 1 pothole, 42.0ms\n",
            "image 212/236 D:\\ITX_Screening_Test-master\\SortDataset\\images\\test\\G0090297.JPG: 448x640 1 pothole, 42.0ms\n",
            "image 213/236 D:\\ITX_Screening_Test-master\\SortDataset\\images\\test\\G0090362.JPG: 448x640 1 pothole, 42.0ms\n",
            "image 214/236 D:\\ITX_Screening_Test-master\\SortDataset\\images\\test\\G0090375.JPG: 448x640 1 pothole, 44.1ms\n",
            "image 215/236 D:\\ITX_Screening_Test-master\\SortDataset\\images\\test\\G0090386.JPG: 448x640 2 potholes, 41.0ms\n",
            "image 216/236 D:\\ITX_Screening_Test-master\\SortDataset\\images\\test\\G0090431.JPG: 448x640 1 pothole, 42.3ms\n",
            "image 217/236 D:\\ITX_Screening_Test-master\\SortDataset\\images\\test\\G0094407.JPG: 448x640 1 pothole, 44.0ms\n",
            "image 218/236 D:\\ITX_Screening_Test-master\\SortDataset\\images\\test\\G0094459.JPG: 448x640 7 potholes, 36.1ms\n",
            "image 219/236 D:\\ITX_Screening_Test-master\\SortDataset\\images\\test\\G0094462.JPG: 448x640 1 pothole, 38.0ms\n",
            "image 220/236 D:\\ITX_Screening_Test-master\\SortDataset\\images\\test\\G0094478.JPG: 448x640 (no detections), 40.1ms\n",
            "image 221/236 D:\\ITX_Screening_Test-master\\SortDataset\\images\\test\\G0094482.JPG: 448x640 (no detections), 41.0ms\n",
            "image 222/236 D:\\ITX_Screening_Test-master\\SortDataset\\images\\test\\G0095123.JPG: 448x640 2 potholes, 40.1ms\n",
            "image 223/236 D:\\ITX_Screening_Test-master\\SortDataset\\images\\test\\G0114681.JPG: 448x640 2 potholes, 40.0ms\n",
            "image 224/236 D:\\ITX_Screening_Test-master\\SortDataset\\images\\test\\G0114707.JPG: 448x640 3 potholes, 40.1ms\n",
            "image 225/236 D:\\ITX_Screening_Test-master\\SortDataset\\images\\test\\G0114711.JPG: 448x640 2 potholes, 41.0ms\n",
            "image 226/236 D:\\ITX_Screening_Test-master\\SortDataset\\images\\test\\G0114712.JPG: 448x640 (no detections), 40.0ms\n",
            "image 227/236 D:\\ITX_Screening_Test-master\\SortDataset\\images\\test\\G0114816.JPG: 448x640 2 potholes, 40.0ms\n",
            "image 228/236 D:\\ITX_Screening_Test-master\\SortDataset\\images\\test\\G0135101.JPG: 448x640 2 potholes, 38.0ms\n",
            "image 229/236 D:\\ITX_Screening_Test-master\\SortDataset\\images\\test\\G0145163.JPG: 448x640 (no detections), 38.0ms\n",
            "image 230/236 D:\\ITX_Screening_Test-master\\SortDataset\\images\\test\\G0145165.JPG: 448x640 2 potholes, 39.0ms\n",
            "image 231/236 D:\\ITX_Screening_Test-master\\SortDataset\\images\\test\\G0151834.JPG: 448x640 1 pothole, 39.0ms\n",
            "image 232/236 D:\\ITX_Screening_Test-master\\SortDataset\\images\\test\\G0267326.JPG: 448x640 3 potholes, 40.6ms\n",
            "image 233/236 D:\\ITX_Screening_Test-master\\SortDataset\\images\\test\\G0325473.JPG: 448x640 1 pothole, 42.0ms\n",
            "image 234/236 D:\\ITX_Screening_Test-master\\SortDataset\\images\\test\\G0335491.JPG: 448x640 (no detections), 39.0ms\n",
            "image 235/236 D:\\ITX_Screening_Test-master\\SortDataset\\images\\test\\G0398363.JPG: 448x640 2 potholes, 41.0ms\n",
            "image 236/236 D:\\ITX_Screening_Test-master\\SortDataset\\images\\test\\G0459768.JPG: 448x640 1 pothole, 42.0ms\n",
            "Speed: 1.1ms preprocess, 39.6ms inference, 0.5ms postprocess per image at shape (1, 3, 448, 640)\n",
            "Results saved to \u001b[1mruns\\detect\\predict7\u001b[0m\n"
          ]
        }
      ],
      "source": [
        "from ultralytics import YOLO\n",
        "from ultralytics.utils.plotting import Annotator  # ultralytics.yolo.utils.plotting is deprecated\n",
        "\n",
        "# Load a model\n",
        "model = YOLO('D:/YOLOv8/runs/detect/train6/weights/best.pt')  # pretrained YOLOv8n model\n",
        "\n",
        "model('D:\\\\ITX_Screening_Test-master\\\\SortDataset\\\\images\\\\test\\\\G0010119.JPG')  # predict on an image\n",
        "\n",
        "results = model.predict(source=\"D:\\\\ITX_Screening_Test-master\\\\SortDataset\\\\images\\\\test\", save=True) # Display preds. Accepts all YOLO predict arguments\n"
      ]
    },
    {
      "cell_type": "code",
      "execution_count": 26,
      "metadata": {},
      "outputs": [
        {
          "name": "stdout",
          "output_type": "stream",
          "text": [
            "\n",
            "0: 448x640 3 potholes, 1: 448x640 4 potholes, 109.1ms\n",
            "Speed: 4.0ms preprocess, 54.5ms inference, 2.5ms postprocess per image at shape (1, 3, 448, 640)\n"
          ]
        }
      ],
      "source": [
        "from ultralytics import YOLO\n",
        "from ultralytics.utils.plotting import Annotator  # ultralytics.yolo.utils.plotting is deprecated\n",
        "\n",
        "# Load a model\n",
        "model = YOLO('D:/YOLOv8/runs/detect/train6/weights/best.pt')  # pretrained YOLOv8n model\n",
        "\n",
        "# Run batched inference on a list of images\n",
        "results = model(['D:\\\\ITX_Screening_Test-master\\\\SortDataset\\\\images\\\\test\\\\G0010119.JPG', 'D:\\\\ITX_Screening_Test-master\\\\SortDataset\\\\images\\\\test\\\\G0024589.JPG'])  # return a list of Results objects\n",
        "\n",
        "# Process results list\n",
        "for result in results:\n",
        "    boxes = result.boxes  # Boxes object for bbox outputs\n",
        "    masks = result.masks  # Masks object for segmentation masks outputs\n",
        "    keypoints = result.keypoints  # Keypoints object for pose outputs\n",
        "    probs = result.probs  # Probs object for classification outputs"
      ]
    },
    {
      "cell_type": "code",
      "execution_count": 1,
      "metadata": {},
      "outputs": [
        {
          "name": "stdout",
          "output_type": "stream",
          "text": [
            "Ultralytics YOLOv8.0.221 🚀 Python-3.10.13 torch-2.1.1+cpu CPU (13th Gen Intel Core(TM) i7-13700F)\n",
            "Model summary (fused): 168 layers, 3005843 parameters, 0 gradients, 8.1 GFLOPs\n",
            "\n",
            "\u001b[34m\u001b[1mPyTorch:\u001b[0m starting from 'D:\\YOLOv8\\runs\\detect\\train6\\weights\\best.pt' with input shape (1, 3, 640, 640) BCHW and output shape(s) (1, 5, 8400) (5.9 MB)\n",
            "\n",
            "\u001b[34m\u001b[1mONNX:\u001b[0m starting export with onnx 1.15.0 opset 17...\n",
            "\u001b[34m\u001b[1mONNX:\u001b[0m export success ✅ 0.5s, saved as 'D:\\YOLOv8\\runs\\detect\\train6\\weights\\best.onnx' (11.7 MB)\n",
            "\n",
            "Export complete (2.4s)\n",
            "Results saved to \u001b[1mD:\\YOLOv8\\runs\\detect\\train6\\weights\u001b[0m\n",
            "Predict:         yolo predict task=detect model=D:\\YOLOv8\\runs\\detect\\train6\\weights\\best.onnx imgsz=640  \n",
            "Validate:        yolo val task=detect model=D:\\YOLOv8\\runs\\detect\\train6\\weights\\best.onnx imgsz=640 data=D:\\YOLOv8\\yolov5\\data\\dataset.yaml  \n",
            "Visualize:       https://netron.app\n"
          ]
        },
        {
          "data": {
            "text/plain": [
              "'D:\\\\YOLOv8\\\\runs\\\\detect\\\\train6\\\\weights\\\\best.onnx'"
            ]
          },
          "execution_count": 1,
          "metadata": {},
          "output_type": "execute_result"
        }
      ],
      "source": [
        "from ultralytics import YOLO\n",
        "\n",
        "# Load a model\n",
        "model = YOLO('D:/YOLOv8/runs/detect/train6/weights/best.pt')  # pretrained YOLOv8n model\n",
        "\n",
        "# Export the model\n",
        "model.export(format='onnx')"
      ]
    }
  ],
  "metadata": {
    "accelerator": "GPU",
    "colab": {
      "name": "YOLOv8 Tutorial",
      "provenance": [],
      "toc_visible": true
    },
    "kernelspec": {
      "display_name": "YOLOv8",
      "language": "python",
      "name": "python3"
    },
    "language_info": {
      "codemirror_mode": {
        "name": "ipython",
        "version": 3
      },
      "file_extension": ".py",
      "mimetype": "text/x-python",
      "name": "python",
      "nbconvert_exporter": "python",
      "pygments_lexer": "ipython3",
      "version": "3.10.13"
    }
  },
  "nbformat": 4,
  "nbformat_minor": 0
}
