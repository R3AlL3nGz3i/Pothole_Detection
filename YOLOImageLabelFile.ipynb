{
 "cells": [
  {
   "cell_type": "code",
   "execution_count": 77,
   "id": "f44af8fe-d419-4214-9867-1d966423fe2a",
   "metadata": {
    "tags": []
   },
   "outputs": [],
   "source": [
    "import os\n",
    "import pandas as pd\n",
    "import numpy as np\n",
    "import torch\n",
    "from PIL import Image\n",
    "from torch.utils.data import DataLoader\n",
    "from sklearn.model_selection import train_test_split\n"
   ]
  },
  {
   "cell_type": "markdown",
   "metadata": {},
   "source": [
    "# Visualise classes\n"
   ]
  },
  {
   "cell_type": "code",
   "execution_count": 79,
   "id": "d1049441-b888-45a8-b1ab-74beaca6f673",
   "metadata": {
    "collapsed": true,
    "jupyter": {
     "outputs_hidden": true
    },
    "tags": []
   },
   "outputs": [
    {
     "data": {
      "image/png": "[encoded data removed]",
      "text/plain": [
       "<Figure size 1000x600 with 1 Axes>"
      ]
     },
     "metadata": {},
     "output_type": "display_data"
    }
   ],
   "source": [
    "import os\n",
    "import matplotlib.pyplot as plt\n",
    "\n",
    "# Directory containing the .txt files\n",
    "folder_path ='C:/Users/USER/Downloads/ITX_Screening_Test-master/Dataset'\n",
    "\n",
    "class_counts = {}  # Dictionary to store counts for each class\n",
    "\n",
    "# Iterate through each .txt file in the folder\n",
    "for filename in os.listdir(folder_path):\n",
    "    if filename.endswith('.txt'):\n",
    "        with open(os.path.join(folder_path, filename), 'r') as file:\n",
    "            annotations = [list(map(float, line.split())) for line in file.readlines()]\n",
    "\n",
    "            for annotation in annotations:\n",
    "                class_index = int(annotation[0])\n",
    "                if class_index in class_counts:\n",
    "                    class_counts[class_index] += 1\n",
    "                else:\n",
    "                    class_counts[class_index] = 1\n",
    "\n",
    "# Extract class indices and counts for plotting\n",
    "classes = list(class_counts.keys())\n",
    "counts = list(class_counts.values())\n",
    "\n",
    "# Plotting the bar chart\n",
    "plt.figure(figsize=(10, 6))\n",
    "plt.bar(classes, counts, color='skyblue')\n",
    "plt.xlabel('Class Index')\n",
    "plt.ylabel('Count')\n",
    "plt.title('Distribution of Annotated Pothole Classes')\n",
    "plt.xticks(classes)  # Set x-axis ticks as class indices\n",
    "plt.grid(axis='y')\n",
    "\n",
    "plt.show()\n"
   ]
  },
  {
   "cell_type": "code",
   "execution_count": 80,
   "id": "3e6f602a-8667-4ca4-a6e3-8f3ebeed76a7",
   "metadata": {
    "tags": []
   },
   "outputs": [],
   "source": [
    "import os\n",
    "import shutil\n",
    "import random\n",
    "\n",
    "\n",
    "# Source directory where your files are located\n",
    "source_directory = 'C:/Users/USER/Downloads/ITX_Screening_Test-master/Dataset'\n",
    "# Destination root directory for the custom dataset structure\n",
    "destination_root = 'C:/Users/USER/Downloads/ITX_Screening_Test-master/SortDataset'\n"
   ]
  },
  {
   "cell_type": "code",
   "execution_count": 81,
   "id": "8d694c66-d23d-4b6f-b90b-7152aece0fec",
   "metadata": {
    "tags": []
   },
   "outputs": [],
   "source": [
    "\n",
    "# Create the necessary directory structure\n",
    "for split in ['train', 'val', 'test']:\n",
    "    os.makedirs(os.path.join(destination_root, 'images', split), exist_ok=True)\n",
    "    os.makedirs(os.path.join(destination_root, 'labels', split), exist_ok=True)\n"
   ]
  },
  {
   "cell_type": "code",
   "execution_count": 82,
   "id": "ffd287f5-f57d-44af-bb4a-52c596c7ad35",
   "metadata": {
    "tags": []
   },
   "outputs": [],
   "source": [
    "\n",
    "# List all the files in the source directory\n",
    "file_list = os.listdir(source_directory)\n",
    "random.shuffle(file_list)  # Shuffle the file list randomly\n",
    "\n",
    "# Separate image and label files\n",
    "image_files = [file for file in file_list if file.lower().endswith(('.jpg', '.jpeg', '.png'))]\n",
    "label_files = [file for file in file_list if file.lower().endswith('.txt')]\n"
   ]
  },
  {
   "cell_type": "code",
   "execution_count": 83,
   "metadata": {},
   "outputs": [],
   "source": [
    "\n",
    "# Calculate the number of files for each split\n",
    "total_files = len(image_files)\n",
    "train_count = int(0.7 * total_files)\n",
    "val_count = int(0.15 * total_files)\n"
   ]
  },
  {
   "cell_type": "code",
   "execution_count": 84,
   "id": "8fe752db-d676-41b8-abb0-1a2ca0bfd28f",
   "metadata": {
    "tags": []
   },
   "outputs": [],
   "source": [
    "\n",
    "# Assign files to train, validation, and test splits\n",
    "train_images = image_files[:train_count]\n",
    "val_images = image_files[train_count:train_count + val_count]\n",
    "test_images = image_files[train_count + val_count:]\n"
   ]
  },
  {
   "cell_type": "code",
   "execution_count": 85,
   "id": "2e300a05-7c91-4583-9266-7d8b59c86d6c",
   "metadata": {
    "tags": []
   },
   "outputs": [],
   "source": [
    "# Function to copy files to destination directories\n",
    "def copy_files(files, destination_folder):\n",
    "    for filename in files:\n",
    "        source_file = os.path.join(source_directory, filename)\n",
    "        destination_dir = os.path.join(destination_root, destination_folder)\n",
    "        destination_file = os.path.join(destination_dir, filename)\n",
    "        \n",
    "        shutil.copy(source_file, destination_file)\n"
   ]
  },
  {
   "cell_type": "code",
   "execution_count": 86,
   "id": "61a927ef-39ef-4c88-8db7-ae428f136e12",
   "metadata": {
    "tags": []
   },
   "outputs": [],
   "source": [
    "# Copy files to respective splits\n",
    "copy_files(train_images, 'images/train')\n",
    "copy_files(val_images, 'images/val')\n",
    "copy_files(test_images, 'images/test')\n",
    "\n",
    "# You can also copy label files (.txt) in a similar way if needed\n",
    "# Modify the paths accordingly for label files"
   ]
  },
  {
   "cell_type": "code",
   "execution_count": 87,
   "id": "59949ef2-4eb7-4f5f-b81b-311a21682e25",
   "metadata": {
    "collapsed": true,
    "jupyter": {
     "outputs_hidden": true
    },
    "tags": []
   },
   "outputs": [],
   "source": [
    "\n",
    "# Function to copy label files to destination directories\n",
    "def copy_label_files(files, destination_folder):\n",
    "    for filename in files:\n",
    "        source_file = os.path.join(source_directory, filename)\n",
    "        destination_dir = os.path.join(destination_root, 'labels', destination_folder)\n",
    "        destination_file = os.path.join(destination_dir, filename)\n",
    "        \n",
    "        shutil.copy(source_file, destination_file)\n",
    "\n",
    "# Assign label files to corresponding splits based on image splits\n",
    "train_label_files = [label_file for label_file in label_files if label_file.replace('.txt', '.JPG') in train_images]\n",
    "val_label_files = [label_file for label_file in label_files if label_file.replace('.txt', '.JPG') in val_images]\n",
    "test_label_files = [label_file for label_file in label_files if label_file.replace('.txt', '.JPG') in test_images]\n",
    "\n",
    "\n",
    "# Copy label files to respective splits\n",
    "copy_label_files(train_label_files, 'train')\n",
    "copy_label_files(val_label_files, 'val')\n",
    "copy_label_files(test_label_files, 'test')"
   ]
  },
  {
   "cell_type": "code",
   "execution_count": null,
   "id": "17a51d9b-b79a-4606-9d8d-52212f5abf7f",
   "metadata": {
    "tags": []
   },
   "outputs": [],
   "source": []
  },
  {
   "cell_type": "code",
   "execution_count": null,
   "id": "9a25a3f3-c0a2-4423-9600-f0ff77a607b9",
   "metadata": {},
   "outputs": [],
   "source": []
  },
  {
   "cell_type": "code",
   "execution_count": null,
   "id": "b2a1ac1b-2e00-4b42-80cb-72de20de7ecd",
   "metadata": {},
   "outputs": [],
   "source": []
  }
 ],
 "metadata": {
  "kernelspec": {
   "display_name": "Anhsass-FaceSwap",
   "language": "python",
   "name": "anhsass-faceswap"
  },
  "language_info": {
   "codemirror_mode": {
    "name": "ipython",
    "version": 3
   },
   "file_extension": ".py",
   "mimetype": "text/x-python",
   "name": "python",
   "nbconvert_exporter": "python",
   "pygments_lexer": "ipython3",
   "version": "3.9.17"
  }
 },
 "nbformat": 4,
 "nbformat_minor": 5
}
